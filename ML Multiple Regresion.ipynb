{
 "cells": [
  {
   "cell_type": "code",
   "execution_count": null,
   "id": "a6d0ddaf",
   "metadata": {},
   "outputs": [],
   "source": [
    "\n",
    "from sklearn.datasets import make_regression\n",
    "import pandas as pd\n",
    "import numpy as np\n",
    "\n",
    "import plotly.express as px\n",
    "import plotly.graph_objects as go\n",
    "\n",
    "from sklearn.metrics import mean_absolute_error,mean_squared_error,r2_score"
   ]
  },
  {
   "cell_type": "code",
   "execution_count": 2,
   "id": "1fd4cd28",
   "metadata": {},
   "outputs": [],
   "source": [
    "X,y = make_regression(n_samples=100, n_features=2, n_informative=2, n_targets=1, noise=50)"
   ]
  },
  {
   "cell_type": "code",
   "execution_count": 3,
   "id": "076417f4",
   "metadata": {},
   "outputs": [],
   "source": [
    "df = pd.DataFrame({'feature1':X[:,0],'feature2':X[:,1],'target':y})"
   ]
  },
  {
   "cell_type": "code",
   "execution_count": 4,
   "id": "98ef02e0",
   "metadata": {},
   "outputs": [
    {
     "data": {
      "text/plain": [
       "(100, 3)"
      ]
     },
     "execution_count": 4,
     "metadata": {},
     "output_type": "execute_result"
    }
   ],
   "source": [
    "\n",
    "df.shape"
   ]
  },
  {
   "cell_type": "code",
   "execution_count": 5,
   "id": "f9f3bb8b",
   "metadata": {},
   "outputs": [
    {
     "data": {
      "text/html": [
       "<div>\n",
       "<style scoped>\n",
       "    .dataframe tbody tr th:only-of-type {\n",
       "        vertical-align: middle;\n",
       "    }\n",
       "\n",
       "    .dataframe tbody tr th {\n",
       "        vertical-align: top;\n",
       "    }\n",
       "\n",
       "    .dataframe thead th {\n",
       "        text-align: right;\n",
       "    }\n",
       "</style>\n",
       "<table border=\"1\" class=\"dataframe\">\n",
       "  <thead>\n",
       "    <tr style=\"text-align: right;\">\n",
       "      <th></th>\n",
       "      <th>feature1</th>\n",
       "      <th>feature2</th>\n",
       "      <th>target</th>\n",
       "    </tr>\n",
       "  </thead>\n",
       "  <tbody>\n",
       "    <tr>\n",
       "      <th>0</th>\n",
       "      <td>-2.308423</td>\n",
       "      <td>0.182014</td>\n",
       "      <td>-258.601676</td>\n",
       "    </tr>\n",
       "    <tr>\n",
       "      <th>1</th>\n",
       "      <td>1.077556</td>\n",
       "      <td>0.983811</td>\n",
       "      <td>50.535666</td>\n",
       "    </tr>\n",
       "    <tr>\n",
       "      <th>2</th>\n",
       "      <td>0.084833</td>\n",
       "      <td>-0.060517</td>\n",
       "      <td>-7.424043</td>\n",
       "    </tr>\n",
       "    <tr>\n",
       "      <th>3</th>\n",
       "      <td>0.467908</td>\n",
       "      <td>-0.473754</td>\n",
       "      <td>75.999152</td>\n",
       "    </tr>\n",
       "    <tr>\n",
       "      <th>4</th>\n",
       "      <td>1.099598</td>\n",
       "      <td>0.437085</td>\n",
       "      <td>39.204323</td>\n",
       "    </tr>\n",
       "  </tbody>\n",
       "</table>\n",
       "</div>"
      ],
      "text/plain": [
       "   feature1  feature2      target\n",
       "0 -2.308423  0.182014 -258.601676\n",
       "1  1.077556  0.983811   50.535666\n",
       "2  0.084833 -0.060517   -7.424043\n",
       "3  0.467908 -0.473754   75.999152\n",
       "4  1.099598  0.437085   39.204323"
      ]
     },
     "execution_count": 5,
     "metadata": {},
     "output_type": "execute_result"
    }
   ],
   "source": [
    "\n",
    "df.head()"
   ]
  },
  {
   "cell_type": "code",
   "execution_count": 6,
   "id": "4ac87ba7",
   "metadata": {},
   "outputs": [
    {
     "data": {
      "application/vnd.plotly.v1+json": {
       "config": {
        "plotlyServerURL": "https://plot.ly"
       },
       "data": [
        {
         "hovertemplate": "feature1=%{x}<br>feature2=%{y}<br>target=%{z}<extra></extra>",
         "legendgroup": "",
         "marker": {
          "color": "#636efa",
          "symbol": "circle"
         },
         "mode": "markers",
         "name": "",
         "scene": "scene",
         "showlegend": false,
         "type": "scatter3d",
         "x": {
          "_inputArray": {
           "0": -2.308423324926577,
           "1": 1.0775560202035006,
           "2": 0.08483261972885213,
           "3": 0.4679080716624357,
           "4": 1.0995984071353562,
           "5": 0.47092411387207156,
           "6": -0.3096565775044383,
           "7": 1.3577981472765464,
           "8": -0.08543468467512522,
           "9": -0.23897306860486736,
           "10": 1.1118793429975817,
           "11": 1.1947342304121567,
           "12": -0.5927810110563868,
           "13": -1.1380409208733904,
           "14": 0.801373672229339,
           "15": 0.02984611394290384,
           "16": -0.9916395842733394,
           "17": -0.046156448582510265,
           "18": 0.18933724992770212,
           "19": 0.08788871803181537,
           "20": 0.8858664435196195,
           "21": -0.426017987980967,
           "22": -0.42071631147731503,
           "23": 0.013324261010945644,
           "24": -0.3902671303636224,
           "25": 1.962623390137215,
           "26": 0.39025436789252466,
           "27": -1.026541804719204,
           "28": -0.12871688803540307,
           "29": -1.6045563455292768,
           "30": -0.6197425125206081,
           "31": -1.2610735559326622,
           "32": -0.42835646929152327,
           "33": -0.44754378154800084,
           "34": 0.9955836945165514,
           "35": -0.12325719307573406,
           "36": -1.3262749545650383,
           "37": 0.9356628514061919,
           "38": -1.6952834236346987,
           "39": -0.8770203395522993,
           "40": 1.913159554234492,
           "41": -1.4878721376168964,
           "42": -0.09546066798955113,
           "43": -0.25318943412717543,
           "44": 2.660790021752289,
           "45": 0.23584928142399056,
           "46": -0.5502529412844832,
           "47": 0.3575713251105123,
           "48": 1.4249194899454651,
           "49": 0.29528663517232423,
           "50": 0.7668014475341202,
           "51": 0.8031711949378577,
           "52": 0.6724536948141133,
           "53": 0.4060568328329083,
           "54": -1.3911548629115016,
           "55": -0.5687789834939972,
           "56": -1.9996035120305502,
           "57": -0.5532249657060797,
           "58": -1.727289717242917,
           "59": 0.44033017515433054,
           "60": 0.4904652170558787,
           "61": 2.3654047298887364,
           "62": -0.046381912112493255,
           "63": -0.5361095735556943,
           "64": 0.5227651867838237,
           "65": 0.008079354562058733,
           "66": -1.977751179692078,
           "67": -1.8868169985282033,
           "68": 0.005993525144049213,
           "69": -1.3731719453416356,
           "70": -0.1622334619151686,
           "71": -1.1868117857215337,
           "72": 1.6067929875847908,
           "73": 0.2179070198948759,
           "74": 0.5471817339608855,
           "75": -2.4988875391639387,
           "76": -1.693582340741999,
           "77": -0.864721679458549,
           "78": 1.3000469007738678,
           "79": -2.070806695191484,
           "80": 0.04028332729857685,
           "81": -0.05166720080137526,
           "82": 1.2067066152347914,
           "83": -0.5374182108086674,
           "84": 1.9406502714085694,
           "85": 0.5050425490868061,
           "86": -0.34083825432665527,
           "87": -0.2817214838137067,
           "88": 1.4938670526552897,
           "89": -1.006301826913605,
           "90": 1.0241352691915016,
           "91": 1.44813414843177,
           "92": 1.4744979211201263,
           "93": 1.222112883618917,
           "94": 1.2088144961782377,
           "95": -0.3621097839148676,
           "96": 1.707394376396441,
           "97": 1.1034630044663163,
           "98": 1.0619633204712677,
           "99": 0.4631121656238777,
           "bdata": "2xDvpaZ3AsB4HKZhqz3xP5eSXi+Xt7U/A8ZUsjTy3T+tFNZ/9JfxP+qc/uSeI94/ztxX0mnR079c9NGMirn1PxytnygM37W/hS4kZauWzr99XHT+QcrxP9WC8KOhHfM/86kF4g/44r8xk4plajXyv8I2Q2bapOk/xpkwzfqPnj/a7/vvgrvvv1ahUmrRoae/zlEt+DM8yD+lTqIB4H+2P5JMcZUEWew/zrN48+BD27+WFawbBO3avwR1SArASYs/y2Rn/CL62L9VELDI52b/PwoNznTt+dg/zO5zGbds8L+ZCEeEy3nAv0gzSkZDrPm/s/DmP+7U47+kTAl3Wy30v5bGqEAxatu/nbdRrI6k3L9lJAxW0tvvPxPNQY3Ijb+/iMU1Fmw49b/75Fs48/DtPyBk34LhH/u/4rmJ9YwQ7L8qeVcxTZz+P14buwNTzve/ksYRPxxwuL+4NtF0QTTQv/uXZ0dMSQVAWSVAK08wzj98B2sOrJvhv/eR1dZy4tY/+voLYXjM9j98tEDq+eXSP3nndTCjieg/aB3rE5Sz6T+koWmcvYTlP2ZrVczV/Nk/LAX+mStC9r9vSJj7bzPivxE1kkBg/v+/CDrh1wS04b8aaOSK+qL7vxG1bp1eLtw/kyfFOMhj3z8daKVQWewCQHdXTLdev6e/mdCvQ88n4b/QKZcOfrrgP+pE75zoi4A/QXLGa96k/7++cmMFZzD+v7z/s6eqjHg/sW5QJYP49b+XCp/qEMTEv8zm4lou/fK/puZRkGy1+T9TNwKSYOTLPxSUikSDguE/cboIwLj9A8DHHunL6Rj7v05VrczMq+u/T3Ch+v3M9D9se8EZA5EAwE6VpCoEoKQ/x39vkx90qr/3zYSYq07zP4JW9qyHMuG/9cWKTOcM/z9jUu39TingP/zB40BL0NW/o97ji7kH0r9An3sj4eb3P9n7x/HPGfC/9bj9qdti8D+iw3u2jiv3P+Sx0yGLl/c/tZ0yPcaN8z+NQoDeTVfzP4J23oPOLNe/1PP/w3xR+z+udcjSyKfxP1CcL0DN/fA/nP5uNaGj3T8=",
           "dtype": "f8",
           "shape": "100"
          },
          "bdata": "2xDvpaZ3AsB4HKZhqz3xP5eSXi+Xt7U/A8ZUsjTy3T+tFNZ/9JfxP+qc/uSeI94/ztxX0mnR079c9NGMirn1PxytnygM37W/hS4kZauWzr99XHT+QcrxP9WC8KOhHfM/86kF4g/44r8xk4plajXyv8I2Q2bapOk/xpkwzfqPnj/a7/vvgrvvv1ahUmrRoae/zlEt+DM8yD+lTqIB4H+2P5JMcZUEWew/zrN48+BD27+WFawbBO3avwR1SArASYs/y2Rn/CL62L9VELDI52b/PwoNznTt+dg/zO5zGbds8L+ZCEeEy3nAv0gzSkZDrPm/s/DmP+7U47+kTAl3Wy30v5bGqEAxatu/nbdRrI6k3L9lJAxW0tvvPxPNQY3Ijb+/iMU1Fmw49b/75Fs48/DtPyBk34LhH/u/4rmJ9YwQ7L8qeVcxTZz+P14buwNTzve/ksYRPxxwuL+4NtF0QTTQv/uXZ0dMSQVAWSVAK08wzj98B2sOrJvhv/eR1dZy4tY/+voLYXjM9j98tEDq+eXSP3nndTCjieg/aB3rE5Sz6T+koWmcvYTlP2ZrVczV/Nk/LAX+mStC9r9vSJj7bzPivxE1kkBg/v+/CDrh1wS04b8aaOSK+qL7vxG1bp1eLtw/kyfFOMhj3z8daKVQWewCQHdXTLdev6e/mdCvQ88n4b/QKZcOfrrgP+pE75zoi4A/QXLGa96k/7++cmMFZzD+v7z/s6eqjHg/sW5QJYP49b+XCp/qEMTEv8zm4lou/fK/puZRkGy1+T9TNwKSYOTLPxSUikSDguE/cboIwLj9A8DHHunL6Rj7v05VrczMq+u/T3Ch+v3M9D9se8EZA5EAwE6VpCoEoKQ/x39vkx90qr/3zYSYq07zP4JW9qyHMuG/9cWKTOcM/z9jUu39TingP/zB40BL0NW/o97ji7kH0r9An3sj4eb3P9n7x/HPGfC/9bj9qdti8D+iw3u2jiv3P+Sx0yGLl/c/tZ0yPcaN8z+NQoDeTVfzP4J23oPOLNe/1PP/w3xR+z+udcjSyKfxP1CcL0DN/fA/nP5uNaGj3T8=",
          "dtype": "f8"
         },
         "y": {
          "_inputArray": {
           "0": 0.18201440478918232,
           "1": 0.9838114547694476,
           "2": -0.060517005125346114,
           "3": -0.4737539185257824,
           "4": 0.43708499885580204,
           "5": 0.4786070977606031,
           "6": -1.4390153294082848,
           "7": 2.08428199470264,
           "8": -0.11810749108317797,
           "9": 1.0606962974618823,
           "10": 0.682311848540085,
           "11": 0.26059638123535644,
           "12": -1.3251774485283805,
           "13": -0.7201760628715371,
           "14": -0.6543293235439742,
           "15": -0.3475688241376548,
           "16": -1.994074674652747,
           "17": 0.4370543549348933,
           "18": 0.4629060237399083,
           "19": -0.2770874401416442,
           "20": 0.3412002402546349,
           "21": -1.1968204051086724,
           "22": 1.3706952136806283,
           "23": 0.1551711457417837,
           "24": -1.2402766794343625,
           "25": -0.6963058380728482,
           "26": 0.15361003100616075,
           "27": -0.3991977242104227,
           "28": -0.3583352110384447,
           "29": 0.7876529476694726,
           "30": 0.6785743662374425,
           "31": -0.15714951177465375,
           "32": 0.5127547295261969,
           "33": 0.7095735336427146,
           "34": 0.06506531516704096,
           "35": -1.0711359300467767,
           "36": 0.04076828783940577,
           "37": -0.6588735556659753,
           "38": 0.9257907636343399,
           "39": -0.2714534775061855,
           "40": 0.20781007839602114,
           "41": -0.35483560047878643,
           "42": 1.1126995003859494,
           "43": 0.8408242143259259,
           "44": 0.6732651725243205,
           "45": 1.1666051838269986,
           "46": -0.26117452116518647,
           "47": -0.9292005832191421,
           "48": 0.23908038171852303,
           "49": 0.43314127563694826,
           "50": -0.008893389185679685,
           "51": -0.937228888051643,
           "52": 0.2693995469869684,
           "53": 0.1167029983751743,
           "54": -0.4449990684638274,
           "55": -0.490887477313023,
           "56": 0.06289972170323192,
           "57": -0.3155176971564326,
           "58": -0.4390645361892388,
           "59": -1.1802996809013484,
           "60": -0.7882340561336332,
           "61": -0.6377824587577344,
           "62": 0.774684616679726,
           "63": 0.6430787272611936,
           "64": -0.22210735097985487,
           "65": -0.37352260096379564,
           "66": 0.9584994842804332,
           "67": 0.588686838477929,
           "68": -1.042975459787713,
           "69": -1.0828758395570128,
           "70": -0.6520330466434457,
           "71": -1.6883609048148849,
           "72": -0.9806394917091745,
           "73": 0.05648135594470067,
           "74": 1.4363849629429613,
           "75": -0.9912243661983534,
           "76": -0.44174210997367885,
           "77": 2.458223777585065,
           "78": 0.3964070554812637,
           "79": -2.2900689330319333,
           "80": 0.13119478866512335,
           "81": 0.202150023943113,
           "82": -1.2440794798197548,
           "83": 0.406789365454782,
           "84": 0.1121091598477306,
           "85": -0.4744790463133721,
           "86": 0.7605738700459088,
           "87": -1.0604976934912123,
           "88": 0.9558113236147034,
           "89": -0.4060034048764643,
           "90": -0.30080885103432864,
           "91": -0.5401742009752937,
           "92": -1.2172803241064076,
           "93": 0.7698158087357996,
           "94": 0.4237230514915478,
           "95": 0.7614858069277198,
           "96": 1.1903944203034467,
           "97": 0.03551788003918559,
           "98": -0.5979659784765763,
           "99": -0.8845706731389418,
           "bdata": "gTf8fT9Mxz9cR/UoYnvvP+X+ursV/K6/qOKa9PtR3r9/GupbM/nbPxv6IKp/od4/HwUk8DQG97+qHdcJnKwAQIhnneNKPL6/pmRJrpz48D8i5WSof9XlP8wnt3GcrdA/xzetRO0z9b87pqyrrgvnv+7srQxE8OS/HvIxT5E+1r9upZbYuuf/v3hDQdSy+Ns/RGVFlkCg3T8mm2L1zLvRv+b7UYg51tU/FwkyJy0m878orLgaXu71PzA1H+ql3MM/z5cCXCzY878YLVEuI0jmvx8nwVV+qcM/58SHnHSM2b+OlRrP9u7WvwvUWvRzNOk/iZncluG25T/QxtOmeR3EvyDmRZt8aOA/n0gjjtO05j9ZEr/YHqiwP3Xx0W1fI/G/HuT3vZTfpD9wG7n+fRXlv4jyl/MToO0/CZIRaH5f0b/Tuz5JhZnKP4PT4GCgtda/W+7G/Z3N8T8038YuCOjqP13jMGdji+U/sBh+Mmqq8j/m/LxWFbfQvwA2i9wCvO2/AlJMmi+azj92I1ovlrjbP+rvn32yNoK/R4vhb8f97b+NcPeY1z3RP+nTXWk/4L0/3F1zX9163L/10kRPs2rfv/OTpDcyGrA/qyamI3Ex1L8+CfEjohncv1w1D+uB4vK/Cv+VoDY56b9HdkrCtmjkv6tRq2Q3yug/WeLK1hmU5D8TcFSAA27MvwI13VbL59e/V/RGHAes7j+ZJdvHhdbiP8QZJQkHsPC/JGrInXVT8b+/1WdodN3kv/1lYLmGA/u/rtJBEmZh77/JgTvRH+usPyjmhMxu+/Y/iT96KRy4779Tl+aygEXcv8jRVzpxqgNAG4bMsrte2T+CqSepD1ICwIR1XKf9ysA/JFPcTg3gyT9oNXfiv+fzv9NJP0PWCNo/Lscgly+zvD+sZ6Nc3V3evzZCQQOfVug/dnPwbcz38L++SgKhAZbuP3WUgLT1+9m/totixHNA079AnupnG0nhv+6e4e76efO/gNlOw1Si6D/h6y1KRx7bP2Hto3sXXug/+LQIBdsL8z9GE2JKZi+iP16uNYyJIuO/Hj0EKGdO7L8=",
           "dtype": "f8",
           "shape": "100"
          },
          "bdata": "gTf8fT9Mxz9cR/UoYnvvP+X+ursV/K6/qOKa9PtR3r9/GupbM/nbPxv6IKp/od4/HwUk8DQG97+qHdcJnKwAQIhnneNKPL6/pmRJrpz48D8i5WSof9XlP8wnt3GcrdA/xzetRO0z9b87pqyrrgvnv+7srQxE8OS/HvIxT5E+1r9upZbYuuf/v3hDQdSy+Ns/RGVFlkCg3T8mm2L1zLvRv+b7UYg51tU/FwkyJy0m878orLgaXu71PzA1H+ql3MM/z5cCXCzY878YLVEuI0jmvx8nwVV+qcM/58SHnHSM2b+OlRrP9u7WvwvUWvRzNOk/iZncluG25T/QxtOmeR3EvyDmRZt8aOA/n0gjjtO05j9ZEr/YHqiwP3Xx0W1fI/G/HuT3vZTfpD9wG7n+fRXlv4jyl/MToO0/CZIRaH5f0b/Tuz5JhZnKP4PT4GCgtda/W+7G/Z3N8T8038YuCOjqP13jMGdji+U/sBh+Mmqq8j/m/LxWFbfQvwA2i9wCvO2/AlJMmi+azj92I1ovlrjbP+rvn32yNoK/R4vhb8f97b+NcPeY1z3RP+nTXWk/4L0/3F1zX9163L/10kRPs2rfv/OTpDcyGrA/qyamI3Ex1L8+CfEjohncv1w1D+uB4vK/Cv+VoDY56b9HdkrCtmjkv6tRq2Q3yug/WeLK1hmU5D8TcFSAA27MvwI13VbL59e/V/RGHAes7j+ZJdvHhdbiP8QZJQkHsPC/JGrInXVT8b+/1WdodN3kv/1lYLmGA/u/rtJBEmZh77/JgTvRH+usPyjmhMxu+/Y/iT96KRy4779Tl+aygEXcv8jRVzpxqgNAG4bMsrte2T+CqSepD1ICwIR1XKf9ysA/JFPcTg3gyT9oNXfiv+fzv9NJP0PWCNo/Lscgly+zvD+sZ6Nc3V3evzZCQQOfVug/dnPwbcz38L++SgKhAZbuP3WUgLT1+9m/totixHNA079AnupnG0nhv+6e4e76efO/gNlOw1Si6D/h6y1KRx7bP2Hto3sXXug/+LQIBdsL8z9GE2JKZi+iP16uNYyJIuO/Hj0EKGdO7L8=",
          "dtype": "f8"
         },
         "z": {
          "_inputArray": {
           "0": -258.60167641354724,
           "1": 50.535666397062016,
           "2": -7.424042541719987,
           "3": 75.99915178943976,
           "4": 39.20432281485344,
           "5": -17.477235175049238,
           "6": -35.715601304188034,
           "7": 186.06915015678163,
           "8": 53.58732686630104,
           "9": 9.501615330250557,
           "10": 60.82036571334021,
           "11": 84.9157608924869,
           "12": -134.32582704835045,
           "13": -155.48063475051765,
           "14": -48.900432698615646,
           "15": 56.89973842720459,
           "16": -111.54575412180378,
           "17": -21.94445678739061,
           "18": 82.68412395921725,
           "19": 6.176422973243697,
           "20": 25.912987407656658,
           "21": -44.835881062193465,
           "22": -27.15725764589251,
           "23": 85.07700678867239,
           "24": -4.850698773272882,
           "25": 186.17065061781824,
           "26": 91.21786826975782,
           "27": -151.15583380533155,
           "28": -11.341959166727538,
           "29": -91.42338376324918,
           "30": -13.490109075829292,
           "31": -88.47734529291192,
           "32": 30.44139892420551,
           "33": -63.85590608453259,
           "34": 182.94521371304245,
           "35": -2.750812669230662,
           "36": -135.82859532355755,
           "37": 43.18910067839359,
           "38": -111.43536298068435,
           "39": -70.80504811941478,
           "40": 74.03575245780199,
           "41": -141.61967782875539,
           "42": -15.363915119552765,
           "43": -3.0703487508733285,
           "44": 347.1887955884381,
           "45": 8.12052145194231,
           "46": -49.90704624978956,
           "47": 14.318068406624784,
           "48": 128.90359664153823,
           "49": 117.1639082177451,
           "50": 107.24076944566443,
           "51": 74.35240078496453,
           "52": 19.218488968934324,
           "53": 28.155638608573256,
           "54": -124.314203509773,
           "55": -40.09563851187584,
           "56": -114.49735894164753,
           "57": -37.30370163020953,
           "58": -193.06534058013773,
           "59": 48.47193098913587,
           "60": -22.928374512281728,
           "61": 166.34935783452678,
           "62": 25.433809859235655,
           "63": -46.09181773206336,
           "64": -18.1133805300462,
           "65": -82.45893100850702,
           "66": -120.14603170873261,
           "67": -171.7031580909757,
           "68": 55.54206181250862,
           "69": -225.6445460371205,
           "70": -29.044842317480423,
           "71": -252.5358165913009,
           "72": 44.790755635222936,
           "73": -3.6287929192522803,
           "74": 101.72059375227646,
           "75": -229.528230292727,
           "76": -254.06534948337537,
           "77": -62.16995422552783,
           "78": 103.0942756931268,
           "79": -124.65886936422304,
           "80": -56.42436545399178,
           "81": -50.664670188572025,
           "82": 9.577104623500823,
           "83": 37.385592741617,
           "84": 186.90133411313911,
           "85": 102.97549898474355,
           "86": -30.312494392724002,
           "87": -83.8688479244851,
           "88": 142.15867040991395,
           "89": -80.71470583771747,
           "90": 180.01107829322365,
           "91": 50.12240222191067,
           "92": 44.0812322498891,
           "93": 168.32949673057593,
           "94": 189.24148319666892,
           "95": 43.75575256815004,
           "96": 166.2777659304977,
           "97": 83.81742520136194,
           "98": 9.688639118617132,
           "99": -8.481147702222845,
           "bdata": "XG9yd6ApcMBIeWy3kERJQEMzQzU4sh3AjthYGvL/UkCkz/8/J5pDQFpWnRUsejHANTvT0pjbQcB+vGN6NkJnQJ5p2YYty0pAXzJ9udMAI0Aox2K+AWlOQPgLk9ObOlVAKJrYLG3KYMBs2SBcYW9jwNBm8GBBc0jAK+b3oCpzTEB8M7Ki7eJbwPFThuvH8TXA4c/br8irVEAJYVE5qLQYQJCL8Yq56TlAvLuQJv5qRsB/J34JQig7wL+64a3tRFVAQNFHlB1nE8BK0kj4dUVnQIpcwY3xzVZAVDAtl/zkYsAKU5tFFa8mwAI0NrgY21bAtlGok+/6KsAzfUXTjB5WwMfzF4X/cD5A6MGgVI7tT8DwJ9QwP95mQDAlnhKqAQbAiwlX2oP6YMAKrXZzNJhFQGr7sPzc21vA8CWM6IWzUcC3QK3ESYJSQPERmWbUs2HAhP8hFVO6LsDvhYIBE5AIwIjfhU4Fs3VACB7d/LQ9IEAeZ20XGvRIwEWwuNzZoixA1AWBQ+ocYECysOR4fUpdQE7AP8Roz1pAeaAFvI2WUkAUHKDk7jczQCzRje7XJzxA3LAJ6RsUX8BXX/zhPQxEwPUvmbrUn1zA9L7ssd+mQsBi2SBFFyJowFwnEjxoPEhAorC486ntNsCbPHvwLctkQHkZtikObzlA2DP2rsALR8A0jaSBBh0ywBwqKiBfnVTA4EthlVgJXsASlWVFgHZlwEiRDkhixUtAXsYCH6A0bMAmDj/Jegs9wFQJ1mglkW/AgjQMezdlRkDIKAGVxAcNwK3uQTUebllAmwA3Q+ewbMAMvcxXF8JvwMI6YA/BFU/AZLLqnAjGWUAn62jqKipfwDQ5cZtRNkzAgUWp6RNVScDknNhBeicjQPZoWxpbsUJAdFajutdcZ0BOMEuTbr5ZQNfu7KH/Tz7AGjdTNJv3VMCMrffTE8VhQHDQjb29LVTA6mLdwFqAZkAzCELgqg9JQLxTgNFlCkZAzT66PIsKZUBAB/g6uqdnQEUJCoC84EVAyG1gdePIZECmscqxUPRUQOhpek6VYCNAci/b/Vj2IMA=",
           "dtype": "f8",
           "shape": "100"
          },
          "bdata": "XG9yd6ApcMBIeWy3kERJQEMzQzU4sh3AjthYGvL/UkCkz/8/J5pDQFpWnRUsejHANTvT0pjbQcB+vGN6NkJnQJ5p2YYty0pAXzJ9udMAI0Aox2K+AWlOQPgLk9ObOlVAKJrYLG3KYMBs2SBcYW9jwNBm8GBBc0jAK+b3oCpzTEB8M7Ki7eJbwPFThuvH8TXA4c/br8irVEAJYVE5qLQYQJCL8Yq56TlAvLuQJv5qRsB/J34JQig7wL+64a3tRFVAQNFHlB1nE8BK0kj4dUVnQIpcwY3xzVZAVDAtl/zkYsAKU5tFFa8mwAI0NrgY21bAtlGok+/6KsAzfUXTjB5WwMfzF4X/cD5A6MGgVI7tT8DwJ9QwP95mQDAlnhKqAQbAiwlX2oP6YMAKrXZzNJhFQGr7sPzc21vA8CWM6IWzUcC3QK3ESYJSQPERmWbUs2HAhP8hFVO6LsDvhYIBE5AIwIjfhU4Fs3VACB7d/LQ9IEAeZ20XGvRIwEWwuNzZoixA1AWBQ+ocYECysOR4fUpdQE7AP8Roz1pAeaAFvI2WUkAUHKDk7jczQCzRje7XJzxA3LAJ6RsUX8BXX/zhPQxEwPUvmbrUn1zA9L7ssd+mQsBi2SBFFyJowFwnEjxoPEhAorC486ntNsCbPHvwLctkQHkZtikObzlA2DP2rsALR8A0jaSBBh0ywBwqKiBfnVTA4EthlVgJXsASlWVFgHZlwEiRDkhixUtAXsYCH6A0bMAmDj/Jegs9wFQJ1mglkW/AgjQMezdlRkDIKAGVxAcNwK3uQTUebllAmwA3Q+ewbMAMvcxXF8JvwMI6YA/BFU/AZLLqnAjGWUAn62jqKipfwDQ5cZtRNkzAgUWp6RNVScDknNhBeicjQPZoWxpbsUJAdFajutdcZ0BOMEuTbr5ZQNfu7KH/Tz7AGjdTNJv3VMCMrffTE8VhQHDQjb29LVTA6mLdwFqAZkAzCELgqg9JQLxTgNFlCkZAzT66PIsKZUBAB/g6uqdnQEUJCoC84EVAyG1gdePIZECmscqxUPRUQOhpek6VYCNAci/b/Vj2IMA=",
          "dtype": "f8"
         }
        }
       ],
       "layout": {
        "autosize": true,
        "legend": {
         "tracegroupgap": 0
        },
        "margin": {
         "t": 60
        },
        "scene": {
         "aspectmode": "auto",
         "aspectratio": {
          "x": 1,
          "y": 1,
          "z": 1
         },
         "camera": {
          "center": {
           "x": 0,
           "y": 0,
           "z": 0
          },
          "eye": {
           "x": 0.9126203105506013,
           "y": 0.9126203105506013,
           "z": 0.9126203105506013
          },
          "projection": {
           "type": "perspective"
          },
          "up": {
           "x": -0.0049232688139214074,
           "y": 0.004947627909476632,
           "z": 0.9999756409044449
          }
         },
         "domain": {
          "x": [
           0,
           1
          ],
          "y": [
           0,
           1
          ]
         },
         "xaxis": {
          "title": {
           "text": "feature1"
          },
          "type": "linear"
         },
         "yaxis": {
          "title": {
           "text": "feature2"
          },
          "type": "linear"
         },
         "zaxis": {
          "title": {
           "text": "target"
          },
          "type": "linear"
         }
        },
        "template": {
         "data": {
          "bar": [
           {
            "error_x": {
             "color": "#2a3f5f"
            },
            "error_y": {
             "color": "#2a3f5f"
            },
            "marker": {
             "line": {
              "color": "#E5ECF6",
              "width": 0.5
             },
             "pattern": {
              "fillmode": "overlay",
              "size": 10,
              "solidity": 0.2
             }
            },
            "type": "bar"
           }
          ],
          "barpolar": [
           {
            "marker": {
             "line": {
              "color": "#E5ECF6",
              "width": 0.5
             },
             "pattern": {
              "fillmode": "overlay",
              "size": 10,
              "solidity": 0.2
             }
            },
            "type": "barpolar"
           }
          ],
          "carpet": [
           {
            "aaxis": {
             "endlinecolor": "#2a3f5f",
             "gridcolor": "white",
             "linecolor": "white",
             "minorgridcolor": "white",
             "startlinecolor": "#2a3f5f"
            },
            "baxis": {
             "endlinecolor": "#2a3f5f",
             "gridcolor": "white",
             "linecolor": "white",
             "minorgridcolor": "white",
             "startlinecolor": "#2a3f5f"
            },
            "type": "carpet"
           }
          ],
          "choropleth": [
           {
            "colorbar": {
             "outlinewidth": 0,
             "ticks": ""
            },
            "type": "choropleth"
           }
          ],
          "contour": [
           {
            "colorbar": {
             "outlinewidth": 0,
             "ticks": ""
            },
            "colorscale": [
             [
              0,
              "#0d0887"
             ],
             [
              0.1111111111111111,
              "#46039f"
             ],
             [
              0.2222222222222222,
              "#7201a8"
             ],
             [
              0.3333333333333333,
              "#9c179e"
             ],
             [
              0.4444444444444444,
              "#bd3786"
             ],
             [
              0.5555555555555556,
              "#d8576b"
             ],
             [
              0.6666666666666666,
              "#ed7953"
             ],
             [
              0.7777777777777778,
              "#fb9f3a"
             ],
             [
              0.8888888888888888,
              "#fdca26"
             ],
             [
              1,
              "#f0f921"
             ]
            ],
            "type": "contour"
           }
          ],
          "contourcarpet": [
           {
            "colorbar": {
             "outlinewidth": 0,
             "ticks": ""
            },
            "type": "contourcarpet"
           }
          ],
          "heatmap": [
           {
            "colorbar": {
             "outlinewidth": 0,
             "ticks": ""
            },
            "colorscale": [
             [
              0,
              "#0d0887"
             ],
             [
              0.1111111111111111,
              "#46039f"
             ],
             [
              0.2222222222222222,
              "#7201a8"
             ],
             [
              0.3333333333333333,
              "#9c179e"
             ],
             [
              0.4444444444444444,
              "#bd3786"
             ],
             [
              0.5555555555555556,
              "#d8576b"
             ],
             [
              0.6666666666666666,
              "#ed7953"
             ],
             [
              0.7777777777777778,
              "#fb9f3a"
             ],
             [
              0.8888888888888888,
              "#fdca26"
             ],
             [
              1,
              "#f0f921"
             ]
            ],
            "type": "heatmap"
           }
          ],
          "histogram": [
           {
            "marker": {
             "pattern": {
              "fillmode": "overlay",
              "size": 10,
              "solidity": 0.2
             }
            },
            "type": "histogram"
           }
          ],
          "histogram2d": [
           {
            "colorbar": {
             "outlinewidth": 0,
             "ticks": ""
            },
            "colorscale": [
             [
              0,
              "#0d0887"
             ],
             [
              0.1111111111111111,
              "#46039f"
             ],
             [
              0.2222222222222222,
              "#7201a8"
             ],
             [
              0.3333333333333333,
              "#9c179e"
             ],
             [
              0.4444444444444444,
              "#bd3786"
             ],
             [
              0.5555555555555556,
              "#d8576b"
             ],
             [
              0.6666666666666666,
              "#ed7953"
             ],
             [
              0.7777777777777778,
              "#fb9f3a"
             ],
             [
              0.8888888888888888,
              "#fdca26"
             ],
             [
              1,
              "#f0f921"
             ]
            ],
            "type": "histogram2d"
           }
          ],
          "histogram2dcontour": [
           {
            "colorbar": {
             "outlinewidth": 0,
             "ticks": ""
            },
            "colorscale": [
             [
              0,
              "#0d0887"
             ],
             [
              0.1111111111111111,
              "#46039f"
             ],
             [
              0.2222222222222222,
              "#7201a8"
             ],
             [
              0.3333333333333333,
              "#9c179e"
             ],
             [
              0.4444444444444444,
              "#bd3786"
             ],
             [
              0.5555555555555556,
              "#d8576b"
             ],
             [
              0.6666666666666666,
              "#ed7953"
             ],
             [
              0.7777777777777778,
              "#fb9f3a"
             ],
             [
              0.8888888888888888,
              "#fdca26"
             ],
             [
              1,
              "#f0f921"
             ]
            ],
            "type": "histogram2dcontour"
           }
          ],
          "mesh3d": [
           {
            "colorbar": {
             "outlinewidth": 0,
             "ticks": ""
            },
            "type": "mesh3d"
           }
          ],
          "parcoords": [
           {
            "line": {
             "colorbar": {
              "outlinewidth": 0,
              "ticks": ""
             }
            },
            "type": "parcoords"
           }
          ],
          "pie": [
           {
            "automargin": true,
            "type": "pie"
           }
          ],
          "scatter": [
           {
            "fillpattern": {
             "fillmode": "overlay",
             "size": 10,
             "solidity": 0.2
            },
            "type": "scatter"
           }
          ],
          "scatter3d": [
           {
            "line": {
             "colorbar": {
              "outlinewidth": 0,
              "ticks": ""
             }
            },
            "marker": {
             "colorbar": {
              "outlinewidth": 0,
              "ticks": ""
             }
            },
            "type": "scatter3d"
           }
          ],
          "scattercarpet": [
           {
            "marker": {
             "colorbar": {
              "outlinewidth": 0,
              "ticks": ""
             }
            },
            "type": "scattercarpet"
           }
          ],
          "scattergeo": [
           {
            "marker": {
             "colorbar": {
              "outlinewidth": 0,
              "ticks": ""
             }
            },
            "type": "scattergeo"
           }
          ],
          "scattergl": [
           {
            "marker": {
             "colorbar": {
              "outlinewidth": 0,
              "ticks": ""
             }
            },
            "type": "scattergl"
           }
          ],
          "scattermap": [
           {
            "marker": {
             "colorbar": {
              "outlinewidth": 0,
              "ticks": ""
             }
            },
            "type": "scattermap"
           }
          ],
          "scattermapbox": [
           {
            "marker": {
             "colorbar": {
              "outlinewidth": 0,
              "ticks": ""
             }
            },
            "type": "scattermapbox"
           }
          ],
          "scatterpolar": [
           {
            "marker": {
             "colorbar": {
              "outlinewidth": 0,
              "ticks": ""
             }
            },
            "type": "scatterpolar"
           }
          ],
          "scatterpolargl": [
           {
            "marker": {
             "colorbar": {
              "outlinewidth": 0,
              "ticks": ""
             }
            },
            "type": "scatterpolargl"
           }
          ],
          "scatterternary": [
           {
            "marker": {
             "colorbar": {
              "outlinewidth": 0,
              "ticks": ""
             }
            },
            "type": "scatterternary"
           }
          ],
          "surface": [
           {
            "colorbar": {
             "outlinewidth": 0,
             "ticks": ""
            },
            "colorscale": [
             [
              0,
              "#0d0887"
             ],
             [
              0.1111111111111111,
              "#46039f"
             ],
             [
              0.2222222222222222,
              "#7201a8"
             ],
             [
              0.3333333333333333,
              "#9c179e"
             ],
             [
              0.4444444444444444,
              "#bd3786"
             ],
             [
              0.5555555555555556,
              "#d8576b"
             ],
             [
              0.6666666666666666,
              "#ed7953"
             ],
             [
              0.7777777777777778,
              "#fb9f3a"
             ],
             [
              0.8888888888888888,
              "#fdca26"
             ],
             [
              1,
              "#f0f921"
             ]
            ],
            "type": "surface"
           }
          ],
          "table": [
           {
            "cells": {
             "fill": {
              "color": "#EBF0F8"
             },
             "line": {
              "color": "white"
             }
            },
            "header": {
             "fill": {
              "color": "#C8D4E3"
             },
             "line": {
              "color": "white"
             }
            },
            "type": "table"
           }
          ]
         },
         "layout": {
          "annotationdefaults": {
           "arrowcolor": "#2a3f5f",
           "arrowhead": 0,
           "arrowwidth": 1
          },
          "autotypenumbers": "strict",
          "coloraxis": {
           "colorbar": {
            "outlinewidth": 0,
            "ticks": ""
           }
          },
          "colorscale": {
           "diverging": [
            [
             0,
             "#8e0152"
            ],
            [
             0.1,
             "#c51b7d"
            ],
            [
             0.2,
             "#de77ae"
            ],
            [
             0.3,
             "#f1b6da"
            ],
            [
             0.4,
             "#fde0ef"
            ],
            [
             0.5,
             "#f7f7f7"
            ],
            [
             0.6,
             "#e6f5d0"
            ],
            [
             0.7,
             "#b8e186"
            ],
            [
             0.8,
             "#7fbc41"
            ],
            [
             0.9,
             "#4d9221"
            ],
            [
             1,
             "#276419"
            ]
           ],
           "sequential": [
            [
             0,
             "#0d0887"
            ],
            [
             0.1111111111111111,
             "#46039f"
            ],
            [
             0.2222222222222222,
             "#7201a8"
            ],
            [
             0.3333333333333333,
             "#9c179e"
            ],
            [
             0.4444444444444444,
             "#bd3786"
            ],
            [
             0.5555555555555556,
             "#d8576b"
            ],
            [
             0.6666666666666666,
             "#ed7953"
            ],
            [
             0.7777777777777778,
             "#fb9f3a"
            ],
            [
             0.8888888888888888,
             "#fdca26"
            ],
            [
             1,
             "#f0f921"
            ]
           ],
           "sequentialminus": [
            [
             0,
             "#0d0887"
            ],
            [
             0.1111111111111111,
             "#46039f"
            ],
            [
             0.2222222222222222,
             "#7201a8"
            ],
            [
             0.3333333333333333,
             "#9c179e"
            ],
            [
             0.4444444444444444,
             "#bd3786"
            ],
            [
             0.5555555555555556,
             "#d8576b"
            ],
            [
             0.6666666666666666,
             "#ed7953"
            ],
            [
             0.7777777777777778,
             "#fb9f3a"
            ],
            [
             0.8888888888888888,
             "#fdca26"
            ],
            [
             1,
             "#f0f921"
            ]
           ]
          },
          "colorway": [
           "#636efa",
           "#EF553B",
           "#00cc96",
           "#ab63fa",
           "#FFA15A",
           "#19d3f3",
           "#FF6692",
           "#B6E880",
           "#FF97FF",
           "#FECB52"
          ],
          "font": {
           "color": "#2a3f5f"
          },
          "geo": {
           "bgcolor": "white",
           "lakecolor": "white",
           "landcolor": "#E5ECF6",
           "showlakes": true,
           "showland": true,
           "subunitcolor": "white"
          },
          "hoverlabel": {
           "align": "left"
          },
          "hovermode": "closest",
          "mapbox": {
           "style": "light"
          },
          "paper_bgcolor": "white",
          "plot_bgcolor": "#E5ECF6",
          "polar": {
           "angularaxis": {
            "gridcolor": "white",
            "linecolor": "white",
            "ticks": ""
           },
           "bgcolor": "#E5ECF6",
           "radialaxis": {
            "gridcolor": "white",
            "linecolor": "white",
            "ticks": ""
           }
          },
          "scene": {
           "xaxis": {
            "backgroundcolor": "#E5ECF6",
            "gridcolor": "white",
            "gridwidth": 2,
            "linecolor": "white",
            "showbackground": true,
            "ticks": "",
            "zerolinecolor": "white"
           },
           "yaxis": {
            "backgroundcolor": "#E5ECF6",
            "gridcolor": "white",
            "gridwidth": 2,
            "linecolor": "white",
            "showbackground": true,
            "ticks": "",
            "zerolinecolor": "white"
           },
           "zaxis": {
            "backgroundcolor": "#E5ECF6",
            "gridcolor": "white",
            "gridwidth": 2,
            "linecolor": "white",
            "showbackground": true,
            "ticks": "",
            "zerolinecolor": "white"
           }
          },
          "shapedefaults": {
           "line": {
            "color": "#2a3f5f"
           }
          },
          "ternary": {
           "aaxis": {
            "gridcolor": "white",
            "linecolor": "white",
            "ticks": ""
           },
           "baxis": {
            "gridcolor": "white",
            "linecolor": "white",
            "ticks": ""
           },
           "bgcolor": "#E5ECF6",
           "caxis": {
            "gridcolor": "white",
            "linecolor": "white",
            "ticks": ""
           }
          },
          "title": {
           "x": 0.05
          },
          "xaxis": {
           "automargin": true,
           "gridcolor": "white",
           "linecolor": "white",
           "ticks": "",
           "title": {
            "standoff": 15
           },
           "zerolinecolor": "white",
           "zerolinewidth": 2
          },
          "yaxis": {
           "automargin": true,
           "gridcolor": "white",
           "linecolor": "white",
           "ticks": "",
           "title": {
            "standoff": 15
           },
           "zerolinecolor": "white",
           "zerolinewidth": 2
          }
         }
        }
       }
      },
      "image/png": "[encoded data removed]"
     },
     "metadata": {},
     "output_type": "display_data"
    }
   ],
   "source": [
    "fig = px.scatter_3d(df, x='feature1', y='feature2', z='target')\n",
    "\n",
    "fig.show()\n",
    "     "
   ]
  },
  {
   "cell_type": "code",
   "execution_count": 13,
   "id": "b9ef71e9-609f-4249-a1f7-4ef35bea789b",
   "metadata": {},
   "outputs": [],
   "source": [
    "from sklearn.model_selection import train_test_split\n",
    "X_train,X_test,y_train,y_test = train_test_split(X,y,test_size=0.2,random_state=3)"
   ]
  },
  {
   "cell_type": "code",
   "execution_count": 15,
   "id": "b185a2fc-39ef-41cb-ac47-35f21e4641a9",
   "metadata": {},
   "outputs": [],
   "source": [
    "\n",
    "from sklearn.linear_model import LinearRegression"
   ]
  },
  {
   "cell_type": "code",
   "execution_count": 31,
   "id": "22e4f90f-01d7-4c0f-ac66-dc3d404dc1f0",
   "metadata": {},
   "outputs": [],
   "source": [
    "lr = LinearRegression()"
   ]
  },
  {
   "cell_type": "code",
   "execution_count": 33,
   "id": "b72e5905-4475-40b3-b548-09e47c6f3e55",
   "metadata": {},
   "outputs": [
    {
     "data": {
      "text/html": [
       "<style>#sk-container-id-2 {\n",
       "  /* Definition of color scheme common for light and dark mode */\n",
       "  --sklearn-color-text: black;\n",
       "  --sklearn-color-line: gray;\n",
       "  /* Definition of color scheme for unfitted estimators */\n",
       "  --sklearn-color-unfitted-level-0: #fff5e6;\n",
       "  --sklearn-color-unfitted-level-1: #f6e4d2;\n",
       "  --sklearn-color-unfitted-level-2: #ffe0b3;\n",
       "  --sklearn-color-unfitted-level-3: chocolate;\n",
       "  /* Definition of color scheme for fitted estimators */\n",
       "  --sklearn-color-fitted-level-0: #f0f8ff;\n",
       "  --sklearn-color-fitted-level-1: #d4ebff;\n",
       "  --sklearn-color-fitted-level-2: #b3dbfd;\n",
       "  --sklearn-color-fitted-level-3: cornflowerblue;\n",
       "\n",
       "  /* Specific color for light theme */\n",
       "  --sklearn-color-text-on-default-background: var(--sg-text-color, var(--theme-code-foreground, var(--jp-content-font-color1, black)));\n",
       "  --sklearn-color-background: var(--sg-background-color, var(--theme-background, var(--jp-layout-color0, white)));\n",
       "  --sklearn-color-border-box: var(--sg-text-color, var(--theme-code-foreground, var(--jp-content-font-color1, black)));\n",
       "  --sklearn-color-icon: #696969;\n",
       "\n",
       "  @media (prefers-color-scheme: dark) {\n",
       "    /* Redefinition of color scheme for dark theme */\n",
       "    --sklearn-color-text-on-default-background: var(--sg-text-color, var(--theme-code-foreground, var(--jp-content-font-color1, white)));\n",
       "    --sklearn-color-background: var(--sg-background-color, var(--theme-background, var(--jp-layout-color0, #111)));\n",
       "    --sklearn-color-border-box: var(--sg-text-color, var(--theme-code-foreground, var(--jp-content-font-color1, white)));\n",
       "    --sklearn-color-icon: #878787;\n",
       "  }\n",
       "}\n",
       "\n",
       "#sk-container-id-2 {\n",
       "  color: var(--sklearn-color-text);\n",
       "}\n",
       "\n",
       "#sk-container-id-2 pre {\n",
       "  padding: 0;\n",
       "}\n",
       "\n",
       "#sk-container-id-2 input.sk-hidden--visually {\n",
       "  border: 0;\n",
       "  clip: rect(1px 1px 1px 1px);\n",
       "  clip: rect(1px, 1px, 1px, 1px);\n",
       "  height: 1px;\n",
       "  margin: -1px;\n",
       "  overflow: hidden;\n",
       "  padding: 0;\n",
       "  position: absolute;\n",
       "  width: 1px;\n",
       "}\n",
       "\n",
       "#sk-container-id-2 div.sk-dashed-wrapped {\n",
       "  border: 1px dashed var(--sklearn-color-line);\n",
       "  margin: 0 0.4em 0.5em 0.4em;\n",
       "  box-sizing: border-box;\n",
       "  padding-bottom: 0.4em;\n",
       "  background-color: var(--sklearn-color-background);\n",
       "}\n",
       "\n",
       "#sk-container-id-2 div.sk-container {\n",
       "  /* jupyter's `normalize.less` sets `[hidden] { display: none; }`\n",
       "     but bootstrap.min.css set `[hidden] { display: none !important; }`\n",
       "     so we also need the `!important` here to be able to override the\n",
       "     default hidden behavior on the sphinx rendered scikit-learn.org.\n",
       "     See: https://github.com/scikit-learn/scikit-learn/issues/21755 */\n",
       "  display: inline-block !important;\n",
       "  position: relative;\n",
       "}\n",
       "\n",
       "#sk-container-id-2 div.sk-text-repr-fallback {\n",
       "  display: none;\n",
       "}\n",
       "\n",
       "div.sk-parallel-item,\n",
       "div.sk-serial,\n",
       "div.sk-item {\n",
       "  /* draw centered vertical line to link estimators */\n",
       "  background-image: linear-gradient(var(--sklearn-color-text-on-default-background), var(--sklearn-color-text-on-default-background));\n",
       "  background-size: 2px 100%;\n",
       "  background-repeat: no-repeat;\n",
       "  background-position: center center;\n",
       "}\n",
       "\n",
       "/* Parallel-specific style estimator block */\n",
       "\n",
       "#sk-container-id-2 div.sk-parallel-item::after {\n",
       "  content: \"\";\n",
       "  width: 100%;\n",
       "  border-bottom: 2px solid var(--sklearn-color-text-on-default-background);\n",
       "  flex-grow: 1;\n",
       "}\n",
       "\n",
       "#sk-container-id-2 div.sk-parallel {\n",
       "  display: flex;\n",
       "  align-items: stretch;\n",
       "  justify-content: center;\n",
       "  background-color: var(--sklearn-color-background);\n",
       "  position: relative;\n",
       "}\n",
       "\n",
       "#sk-container-id-2 div.sk-parallel-item {\n",
       "  display: flex;\n",
       "  flex-direction: column;\n",
       "}\n",
       "\n",
       "#sk-container-id-2 div.sk-parallel-item:first-child::after {\n",
       "  align-self: flex-end;\n",
       "  width: 50%;\n",
       "}\n",
       "\n",
       "#sk-container-id-2 div.sk-parallel-item:last-child::after {\n",
       "  align-self: flex-start;\n",
       "  width: 50%;\n",
       "}\n",
       "\n",
       "#sk-container-id-2 div.sk-parallel-item:only-child::after {\n",
       "  width: 0;\n",
       "}\n",
       "\n",
       "/* Serial-specific style estimator block */\n",
       "\n",
       "#sk-container-id-2 div.sk-serial {\n",
       "  display: flex;\n",
       "  flex-direction: column;\n",
       "  align-items: center;\n",
       "  background-color: var(--sklearn-color-background);\n",
       "  padding-right: 1em;\n",
       "  padding-left: 1em;\n",
       "}\n",
       "\n",
       "\n",
       "/* Toggleable style: style used for estimator/Pipeline/ColumnTransformer box that is\n",
       "clickable and can be expanded/collapsed.\n",
       "- Pipeline and ColumnTransformer use this feature and define the default style\n",
       "- Estimators will overwrite some part of the style using the `sk-estimator` class\n",
       "*/\n",
       "\n",
       "/* Pipeline and ColumnTransformer style (default) */\n",
       "\n",
       "#sk-container-id-2 div.sk-toggleable {\n",
       "  /* Default theme specific background. It is overwritten whether we have a\n",
       "  specific estimator or a Pipeline/ColumnTransformer */\n",
       "  background-color: var(--sklearn-color-background);\n",
       "}\n",
       "\n",
       "/* Toggleable label */\n",
       "#sk-container-id-2 label.sk-toggleable__label {\n",
       "  cursor: pointer;\n",
       "  display: block;\n",
       "  width: 100%;\n",
       "  margin-bottom: 0;\n",
       "  padding: 0.5em;\n",
       "  box-sizing: border-box;\n",
       "  text-align: center;\n",
       "}\n",
       "\n",
       "#sk-container-id-2 label.sk-toggleable__label-arrow:before {\n",
       "  /* Arrow on the left of the label */\n",
       "  content: \"▸\";\n",
       "  float: left;\n",
       "  margin-right: 0.25em;\n",
       "  color: var(--sklearn-color-icon);\n",
       "}\n",
       "\n",
       "#sk-container-id-2 label.sk-toggleable__label-arrow:hover:before {\n",
       "  color: var(--sklearn-color-text);\n",
       "}\n",
       "\n",
       "/* Toggleable content - dropdown */\n",
       "\n",
       "#sk-container-id-2 div.sk-toggleable__content {\n",
       "  max-height: 0;\n",
       "  max-width: 0;\n",
       "  overflow: hidden;\n",
       "  text-align: left;\n",
       "  /* unfitted */\n",
       "  background-color: var(--sklearn-color-unfitted-level-0);\n",
       "}\n",
       "\n",
       "#sk-container-id-2 div.sk-toggleable__content.fitted {\n",
       "  /* fitted */\n",
       "  background-color: var(--sklearn-color-fitted-level-0);\n",
       "}\n",
       "\n",
       "#sk-container-id-2 div.sk-toggleable__content pre {\n",
       "  margin: 0.2em;\n",
       "  border-radius: 0.25em;\n",
       "  color: var(--sklearn-color-text);\n",
       "  /* unfitted */\n",
       "  background-color: var(--sklearn-color-unfitted-level-0);\n",
       "}\n",
       "\n",
       "#sk-container-id-2 div.sk-toggleable__content.fitted pre {\n",
       "  /* unfitted */\n",
       "  background-color: var(--sklearn-color-fitted-level-0);\n",
       "}\n",
       "\n",
       "#sk-container-id-2 input.sk-toggleable__control:checked~div.sk-toggleable__content {\n",
       "  /* Expand drop-down */\n",
       "  max-height: 200px;\n",
       "  max-width: 100%;\n",
       "  overflow: auto;\n",
       "}\n",
       "\n",
       "#sk-container-id-2 input.sk-toggleable__control:checked~label.sk-toggleable__label-arrow:before {\n",
       "  content: \"▾\";\n",
       "}\n",
       "\n",
       "/* Pipeline/ColumnTransformer-specific style */\n",
       "\n",
       "#sk-container-id-2 div.sk-label input.sk-toggleable__control:checked~label.sk-toggleable__label {\n",
       "  color: var(--sklearn-color-text);\n",
       "  background-color: var(--sklearn-color-unfitted-level-2);\n",
       "}\n",
       "\n",
       "#sk-container-id-2 div.sk-label.fitted input.sk-toggleable__control:checked~label.sk-toggleable__label {\n",
       "  background-color: var(--sklearn-color-fitted-level-2);\n",
       "}\n",
       "\n",
       "/* Estimator-specific style */\n",
       "\n",
       "/* Colorize estimator box */\n",
       "#sk-container-id-2 div.sk-estimator input.sk-toggleable__control:checked~label.sk-toggleable__label {\n",
       "  /* unfitted */\n",
       "  background-color: var(--sklearn-color-unfitted-level-2);\n",
       "}\n",
       "\n",
       "#sk-container-id-2 div.sk-estimator.fitted input.sk-toggleable__control:checked~label.sk-toggleable__label {\n",
       "  /* fitted */\n",
       "  background-color: var(--sklearn-color-fitted-level-2);\n",
       "}\n",
       "\n",
       "#sk-container-id-2 div.sk-label label.sk-toggleable__label,\n",
       "#sk-container-id-2 div.sk-label label {\n",
       "  /* The background is the default theme color */\n",
       "  color: var(--sklearn-color-text-on-default-background);\n",
       "}\n",
       "\n",
       "/* On hover, darken the color of the background */\n",
       "#sk-container-id-2 div.sk-label:hover label.sk-toggleable__label {\n",
       "  color: var(--sklearn-color-text);\n",
       "  background-color: var(--sklearn-color-unfitted-level-2);\n",
       "}\n",
       "\n",
       "/* Label box, darken color on hover, fitted */\n",
       "#sk-container-id-2 div.sk-label.fitted:hover label.sk-toggleable__label.fitted {\n",
       "  color: var(--sklearn-color-text);\n",
       "  background-color: var(--sklearn-color-fitted-level-2);\n",
       "}\n",
       "\n",
       "/* Estimator label */\n",
       "\n",
       "#sk-container-id-2 div.sk-label label {\n",
       "  font-family: monospace;\n",
       "  font-weight: bold;\n",
       "  display: inline-block;\n",
       "  line-height: 1.2em;\n",
       "}\n",
       "\n",
       "#sk-container-id-2 div.sk-label-container {\n",
       "  text-align: center;\n",
       "}\n",
       "\n",
       "/* Estimator-specific */\n",
       "#sk-container-id-2 div.sk-estimator {\n",
       "  font-family: monospace;\n",
       "  border: 1px dotted var(--sklearn-color-border-box);\n",
       "  border-radius: 0.25em;\n",
       "  box-sizing: border-box;\n",
       "  margin-bottom: 0.5em;\n",
       "  /* unfitted */\n",
       "  background-color: var(--sklearn-color-unfitted-level-0);\n",
       "}\n",
       "\n",
       "#sk-container-id-2 div.sk-estimator.fitted {\n",
       "  /* fitted */\n",
       "  background-color: var(--sklearn-color-fitted-level-0);\n",
       "}\n",
       "\n",
       "/* on hover */\n",
       "#sk-container-id-2 div.sk-estimator:hover {\n",
       "  /* unfitted */\n",
       "  background-color: var(--sklearn-color-unfitted-level-2);\n",
       "}\n",
       "\n",
       "#sk-container-id-2 div.sk-estimator.fitted:hover {\n",
       "  /* fitted */\n",
       "  background-color: var(--sklearn-color-fitted-level-2);\n",
       "}\n",
       "\n",
       "/* Specification for estimator info (e.g. \"i\" and \"?\") */\n",
       "\n",
       "/* Common style for \"i\" and \"?\" */\n",
       "\n",
       ".sk-estimator-doc-link,\n",
       "a:link.sk-estimator-doc-link,\n",
       "a:visited.sk-estimator-doc-link {\n",
       "  float: right;\n",
       "  font-size: smaller;\n",
       "  line-height: 1em;\n",
       "  font-family: monospace;\n",
       "  background-color: var(--sklearn-color-background);\n",
       "  border-radius: 1em;\n",
       "  height: 1em;\n",
       "  width: 1em;\n",
       "  text-decoration: none !important;\n",
       "  margin-left: 1ex;\n",
       "  /* unfitted */\n",
       "  border: var(--sklearn-color-unfitted-level-1) 1pt solid;\n",
       "  color: var(--sklearn-color-unfitted-level-1);\n",
       "}\n",
       "\n",
       ".sk-estimator-doc-link.fitted,\n",
       "a:link.sk-estimator-doc-link.fitted,\n",
       "a:visited.sk-estimator-doc-link.fitted {\n",
       "  /* fitted */\n",
       "  border: var(--sklearn-color-fitted-level-1) 1pt solid;\n",
       "  color: var(--sklearn-color-fitted-level-1);\n",
       "}\n",
       "\n",
       "/* On hover */\n",
       "div.sk-estimator:hover .sk-estimator-doc-link:hover,\n",
       ".sk-estimator-doc-link:hover,\n",
       "div.sk-label-container:hover .sk-estimator-doc-link:hover,\n",
       ".sk-estimator-doc-link:hover {\n",
       "  /* unfitted */\n",
       "  background-color: var(--sklearn-color-unfitted-level-3);\n",
       "  color: var(--sklearn-color-background);\n",
       "  text-decoration: none;\n",
       "}\n",
       "\n",
       "div.sk-estimator.fitted:hover .sk-estimator-doc-link.fitted:hover,\n",
       ".sk-estimator-doc-link.fitted:hover,\n",
       "div.sk-label-container:hover .sk-estimator-doc-link.fitted:hover,\n",
       ".sk-estimator-doc-link.fitted:hover {\n",
       "  /* fitted */\n",
       "  background-color: var(--sklearn-color-fitted-level-3);\n",
       "  color: var(--sklearn-color-background);\n",
       "  text-decoration: none;\n",
       "}\n",
       "\n",
       "/* Span, style for the box shown on hovering the info icon */\n",
       ".sk-estimator-doc-link span {\n",
       "  display: none;\n",
       "  z-index: 9999;\n",
       "  position: relative;\n",
       "  font-weight: normal;\n",
       "  right: .2ex;\n",
       "  padding: .5ex;\n",
       "  margin: .5ex;\n",
       "  width: min-content;\n",
       "  min-width: 20ex;\n",
       "  max-width: 50ex;\n",
       "  color: var(--sklearn-color-text);\n",
       "  box-shadow: 2pt 2pt 4pt #999;\n",
       "  /* unfitted */\n",
       "  background: var(--sklearn-color-unfitted-level-0);\n",
       "  border: .5pt solid var(--sklearn-color-unfitted-level-3);\n",
       "}\n",
       "\n",
       ".sk-estimator-doc-link.fitted span {\n",
       "  /* fitted */\n",
       "  background: var(--sklearn-color-fitted-level-0);\n",
       "  border: var(--sklearn-color-fitted-level-3);\n",
       "}\n",
       "\n",
       ".sk-estimator-doc-link:hover span {\n",
       "  display: block;\n",
       "}\n",
       "\n",
       "/* \"?\"-specific style due to the `<a>` HTML tag */\n",
       "\n",
       "#sk-container-id-2 a.estimator_doc_link {\n",
       "  float: right;\n",
       "  font-size: 1rem;\n",
       "  line-height: 1em;\n",
       "  font-family: monospace;\n",
       "  background-color: var(--sklearn-color-background);\n",
       "  border-radius: 1rem;\n",
       "  height: 1rem;\n",
       "  width: 1rem;\n",
       "  text-decoration: none;\n",
       "  /* unfitted */\n",
       "  color: var(--sklearn-color-unfitted-level-1);\n",
       "  border: var(--sklearn-color-unfitted-level-1) 1pt solid;\n",
       "}\n",
       "\n",
       "#sk-container-id-2 a.estimator_doc_link.fitted {\n",
       "  /* fitted */\n",
       "  border: var(--sklearn-color-fitted-level-1) 1pt solid;\n",
       "  color: var(--sklearn-color-fitted-level-1);\n",
       "}\n",
       "\n",
       "/* On hover */\n",
       "#sk-container-id-2 a.estimator_doc_link:hover {\n",
       "  /* unfitted */\n",
       "  background-color: var(--sklearn-color-unfitted-level-3);\n",
       "  color: var(--sklearn-color-background);\n",
       "  text-decoration: none;\n",
       "}\n",
       "\n",
       "#sk-container-id-2 a.estimator_doc_link.fitted:hover {\n",
       "  /* fitted */\n",
       "  background-color: var(--sklearn-color-fitted-level-3);\n",
       "}\n",
       "</style><div id=\"sk-container-id-2\" class=\"sk-top-container\"><div class=\"sk-text-repr-fallback\"><pre>LinearRegression()</pre><b>In a Jupyter environment, please rerun this cell to show the HTML representation or trust the notebook. <br />On GitHub, the HTML representation is unable to render, please try loading this page with nbviewer.org.</b></div><div class=\"sk-container\" hidden><div class=\"sk-item\"><div class=\"sk-estimator fitted sk-toggleable\"><input class=\"sk-toggleable__control sk-hidden--visually\" id=\"sk-estimator-id-2\" type=\"checkbox\" checked><label for=\"sk-estimator-id-2\" class=\"sk-toggleable__label fitted sk-toggleable__label-arrow fitted\">&nbsp;&nbsp;LinearRegression<a class=\"sk-estimator-doc-link fitted\" rel=\"noreferrer\" target=\"_blank\" href=\"https://scikit-learn.org/1.5/modules/generated/sklearn.linear_model.LinearRegression.html\">?<span>Documentation for LinearRegression</span></a><span class=\"sk-estimator-doc-link fitted\">i<span>Fitted</span></span></label><div class=\"sk-toggleable__content fitted\"><pre>LinearRegression()</pre></div> </div></div></div></div>"
      ],
      "text/plain": [
       "LinearRegression()"
      ]
     },
     "execution_count": 33,
     "metadata": {},
     "output_type": "execute_result"
    }
   ],
   "source": [
    "lr.fit(X_train,y_train)"
   ]
  },
  {
   "cell_type": "code",
   "execution_count": 35,
   "id": "2a812158-91aa-455b-8f4c-e1f8620b9aa9",
   "metadata": {},
   "outputs": [],
   "source": [
    "y_pred = lr.predict(X_test)"
   ]
  },
  {
   "cell_type": "code",
   "execution_count": 37,
   "id": "99b84310-db4d-433c-8859-13aa03268225",
   "metadata": {},
   "outputs": [
    {
     "name": "stdout",
     "output_type": "stream",
     "text": [
      "MAE 46.7260722044298\n",
      "MSE 3089.2192466731676\n",
      "R2 score 0.7896902406782603\n"
     ]
    }
   ],
   "source": [
    "print(\"MAE\",mean_absolute_error(y_test,y_pred))\n",
    "print(\"MSE\",mean_squared_error(y_test,y_pred))\n",
    "print(\"R2 score\",r2_score(y_test,y_pred))"
   ]
  },
  {
   "cell_type": "code",
   "execution_count": 41,
   "id": "1e795ea1-c7a1-46a8-b74e-375b07365845",
   "metadata": {},
   "outputs": [],
   "source": [
    "x = np.linspace(-5, 5, 10)\n",
    "y = np.linspace(-5, 5, 10)\n",
    "xGrid, yGrid = np.meshgrid(y, x)\n",
    "\n",
    "# Define 'final' first\n",
    "final = np.vstack((xGrid.ravel().reshape(1,100),yGrid.ravel().reshape(1,100))).T\n",
    "\n",
    "# Now use 'final' in the prediction\n",
    "z_final = lr.predict(final).reshape(10,10)\n",
    "\n",
    "z = z_final"
   ]
  },
  {
   "cell_type": "code",
   "execution_count": 43,
   "id": "1bfff273-5b27-4395-a89e-deb1035adf38",
   "metadata": {},
   "outputs": [
    {
     "data": {
      "application/vnd.plotly.v1+json": {
       "config": {
        "plotlyServerURL": "https://plot.ly"
       },
       "data": [
        {
         "hovertemplate": "feature1=%{x}<br>feature2=%{y}<br>target=%{z}<extra></extra>",
         "legendgroup": "",
         "marker": {
          "color": "#636efa",
          "symbol": "circle"
         },
         "mode": "markers",
         "name": "",
         "scene": "scene",
         "showlegend": false,
         "type": "scatter3d",
         "x": {
          "_inputArray": {
           "0": -2.308423324926577,
           "1": 1.0775560202035006,
           "2": 0.08483261972885213,
           "3": 0.4679080716624357,
           "4": 1.0995984071353562,
           "5": 0.47092411387207156,
           "6": -0.3096565775044383,
           "7": 1.3577981472765464,
           "8": -0.08543468467512522,
           "9": -0.23897306860486736,
           "10": 1.1118793429975817,
           "11": 1.1947342304121567,
           "12": -0.5927810110563868,
           "13": -1.1380409208733904,
           "14": 0.801373672229339,
           "15": 0.02984611394290384,
           "16": -0.9916395842733394,
           "17": -0.046156448582510265,
           "18": 0.18933724992770212,
           "19": 0.08788871803181537,
           "20": 0.8858664435196195,
           "21": -0.426017987980967,
           "22": -0.42071631147731503,
           "23": 0.013324261010945644,
           "24": -0.3902671303636224,
           "25": 1.962623390137215,
           "26": 0.39025436789252466,
           "27": -1.026541804719204,
           "28": -0.12871688803540307,
           "29": -1.6045563455292768,
           "30": -0.6197425125206081,
           "31": -1.2610735559326622,
           "32": -0.42835646929152327,
           "33": -0.44754378154800084,
           "34": 0.9955836945165514,
           "35": -0.12325719307573406,
           "36": -1.3262749545650383,
           "37": 0.9356628514061919,
           "38": -1.6952834236346987,
           "39": -0.8770203395522993,
           "40": 1.913159554234492,
           "41": -1.4878721376168964,
           "42": -0.09546066798955113,
           "43": -0.25318943412717543,
           "44": 2.660790021752289,
           "45": 0.23584928142399056,
           "46": -0.5502529412844832,
           "47": 0.3575713251105123,
           "48": 1.4249194899454651,
           "49": 0.29528663517232423,
           "50": 0.7668014475341202,
           "51": 0.8031711949378577,
           "52": 0.6724536948141133,
           "53": 0.4060568328329083,
           "54": -1.3911548629115016,
           "55": -0.5687789834939972,
           "56": -1.9996035120305502,
           "57": -0.5532249657060797,
           "58": -1.727289717242917,
           "59": 0.44033017515433054,
           "60": 0.4904652170558787,
           "61": 2.3654047298887364,
           "62": -0.046381912112493255,
           "63": -0.5361095735556943,
           "64": 0.5227651867838237,
           "65": 0.008079354562058733,
           "66": -1.977751179692078,
           "67": -1.8868169985282033,
           "68": 0.005993525144049213,
           "69": -1.3731719453416356,
           "70": -0.1622334619151686,
           "71": -1.1868117857215337,
           "72": 1.6067929875847908,
           "73": 0.2179070198948759,
           "74": 0.5471817339608855,
           "75": -2.4988875391639387,
           "76": -1.693582340741999,
           "77": -0.864721679458549,
           "78": 1.3000469007738678,
           "79": -2.070806695191484,
           "80": 0.04028332729857685,
           "81": -0.05166720080137526,
           "82": 1.2067066152347914,
           "83": -0.5374182108086674,
           "84": 1.9406502714085694,
           "85": 0.5050425490868061,
           "86": -0.34083825432665527,
           "87": -0.2817214838137067,
           "88": 1.4938670526552897,
           "89": -1.006301826913605,
           "90": 1.0241352691915016,
           "91": 1.44813414843177,
           "92": 1.4744979211201263,
           "93": 1.222112883618917,
           "94": 1.2088144961782377,
           "95": -0.3621097839148676,
           "96": 1.707394376396441,
           "97": 1.1034630044663163,
           "98": 1.0619633204712677,
           "99": 0.4631121656238777,
           "bdata": "2xDvpaZ3AsB4HKZhqz3xP5eSXi+Xt7U/A8ZUsjTy3T+tFNZ/9JfxP+qc/uSeI94/ztxX0mnR079c9NGMirn1PxytnygM37W/hS4kZauWzr99XHT+QcrxP9WC8KOhHfM/86kF4g/44r8xk4plajXyv8I2Q2bapOk/xpkwzfqPnj/a7/vvgrvvv1ahUmrRoae/zlEt+DM8yD+lTqIB4H+2P5JMcZUEWew/zrN48+BD27+WFawbBO3avwR1SArASYs/y2Rn/CL62L9VELDI52b/PwoNznTt+dg/zO5zGbds8L+ZCEeEy3nAv0gzSkZDrPm/s/DmP+7U47+kTAl3Wy30v5bGqEAxatu/nbdRrI6k3L9lJAxW0tvvPxPNQY3Ijb+/iMU1Fmw49b/75Fs48/DtPyBk34LhH/u/4rmJ9YwQ7L8qeVcxTZz+P14buwNTzve/ksYRPxxwuL+4NtF0QTTQv/uXZ0dMSQVAWSVAK08wzj98B2sOrJvhv/eR1dZy4tY/+voLYXjM9j98tEDq+eXSP3nndTCjieg/aB3rE5Sz6T+koWmcvYTlP2ZrVczV/Nk/LAX+mStC9r9vSJj7bzPivxE1kkBg/v+/CDrh1wS04b8aaOSK+qL7vxG1bp1eLtw/kyfFOMhj3z8daKVQWewCQHdXTLdev6e/mdCvQ88n4b/QKZcOfrrgP+pE75zoi4A/QXLGa96k/7++cmMFZzD+v7z/s6eqjHg/sW5QJYP49b+XCp/qEMTEv8zm4lou/fK/puZRkGy1+T9TNwKSYOTLPxSUikSDguE/cboIwLj9A8DHHunL6Rj7v05VrczMq+u/T3Ch+v3M9D9se8EZA5EAwE6VpCoEoKQ/x39vkx90qr/3zYSYq07zP4JW9qyHMuG/9cWKTOcM/z9jUu39TingP/zB40BL0NW/o97ji7kH0r9An3sj4eb3P9n7x/HPGfC/9bj9qdti8D+iw3u2jiv3P+Sx0yGLl/c/tZ0yPcaN8z+NQoDeTVfzP4J23oPOLNe/1PP/w3xR+z+udcjSyKfxP1CcL0DN/fA/nP5uNaGj3T8=",
           "dtype": "f8",
           "shape": "100"
          },
          "bdata": "2xDvpaZ3AsB4HKZhqz3xP5eSXi+Xt7U/A8ZUsjTy3T+tFNZ/9JfxP+qc/uSeI94/ztxX0mnR079c9NGMirn1PxytnygM37W/hS4kZauWzr99XHT+QcrxP9WC8KOhHfM/86kF4g/44r8xk4plajXyv8I2Q2bapOk/xpkwzfqPnj/a7/vvgrvvv1ahUmrRoae/zlEt+DM8yD+lTqIB4H+2P5JMcZUEWew/zrN48+BD27+WFawbBO3avwR1SArASYs/y2Rn/CL62L9VELDI52b/PwoNznTt+dg/zO5zGbds8L+ZCEeEy3nAv0gzSkZDrPm/s/DmP+7U47+kTAl3Wy30v5bGqEAxatu/nbdRrI6k3L9lJAxW0tvvPxPNQY3Ijb+/iMU1Fmw49b/75Fs48/DtPyBk34LhH/u/4rmJ9YwQ7L8qeVcxTZz+P14buwNTzve/ksYRPxxwuL+4NtF0QTTQv/uXZ0dMSQVAWSVAK08wzj98B2sOrJvhv/eR1dZy4tY/+voLYXjM9j98tEDq+eXSP3nndTCjieg/aB3rE5Sz6T+koWmcvYTlP2ZrVczV/Nk/LAX+mStC9r9vSJj7bzPivxE1kkBg/v+/CDrh1wS04b8aaOSK+qL7vxG1bp1eLtw/kyfFOMhj3z8daKVQWewCQHdXTLdev6e/mdCvQ88n4b/QKZcOfrrgP+pE75zoi4A/QXLGa96k/7++cmMFZzD+v7z/s6eqjHg/sW5QJYP49b+XCp/qEMTEv8zm4lou/fK/puZRkGy1+T9TNwKSYOTLPxSUikSDguE/cboIwLj9A8DHHunL6Rj7v05VrczMq+u/T3Ch+v3M9D9se8EZA5EAwE6VpCoEoKQ/x39vkx90qr/3zYSYq07zP4JW9qyHMuG/9cWKTOcM/z9jUu39TingP/zB40BL0NW/o97ji7kH0r9An3sj4eb3P9n7x/HPGfC/9bj9qdti8D+iw3u2jiv3P+Sx0yGLl/c/tZ0yPcaN8z+NQoDeTVfzP4J23oPOLNe/1PP/w3xR+z+udcjSyKfxP1CcL0DN/fA/nP5uNaGj3T8=",
          "dtype": "f8"
         },
         "y": {
          "_inputArray": {
           "0": 0.18201440478918232,
           "1": 0.9838114547694476,
           "2": -0.060517005125346114,
           "3": -0.4737539185257824,
           "4": 0.43708499885580204,
           "5": 0.4786070977606031,
           "6": -1.4390153294082848,
           "7": 2.08428199470264,
           "8": -0.11810749108317797,
           "9": 1.0606962974618823,
           "10": 0.682311848540085,
           "11": 0.26059638123535644,
           "12": -1.3251774485283805,
           "13": -0.7201760628715371,
           "14": -0.6543293235439742,
           "15": -0.3475688241376548,
           "16": -1.994074674652747,
           "17": 0.4370543549348933,
           "18": 0.4629060237399083,
           "19": -0.2770874401416442,
           "20": 0.3412002402546349,
           "21": -1.1968204051086724,
           "22": 1.3706952136806283,
           "23": 0.1551711457417837,
           "24": -1.2402766794343625,
           "25": -0.6963058380728482,
           "26": 0.15361003100616075,
           "27": -0.3991977242104227,
           "28": -0.3583352110384447,
           "29": 0.7876529476694726,
           "30": 0.6785743662374425,
           "31": -0.15714951177465375,
           "32": 0.5127547295261969,
           "33": 0.7095735336427146,
           "34": 0.06506531516704096,
           "35": -1.0711359300467767,
           "36": 0.04076828783940577,
           "37": -0.6588735556659753,
           "38": 0.9257907636343399,
           "39": -0.2714534775061855,
           "40": 0.20781007839602114,
           "41": -0.35483560047878643,
           "42": 1.1126995003859494,
           "43": 0.8408242143259259,
           "44": 0.6732651725243205,
           "45": 1.1666051838269986,
           "46": -0.26117452116518647,
           "47": -0.9292005832191421,
           "48": 0.23908038171852303,
           "49": 0.43314127563694826,
           "50": -0.008893389185679685,
           "51": -0.937228888051643,
           "52": 0.2693995469869684,
           "53": 0.1167029983751743,
           "54": -0.4449990684638274,
           "55": -0.490887477313023,
           "56": 0.06289972170323192,
           "57": -0.3155176971564326,
           "58": -0.4390645361892388,
           "59": -1.1802996809013484,
           "60": -0.7882340561336332,
           "61": -0.6377824587577344,
           "62": 0.774684616679726,
           "63": 0.6430787272611936,
           "64": -0.22210735097985487,
           "65": -0.37352260096379564,
           "66": 0.9584994842804332,
           "67": 0.588686838477929,
           "68": -1.042975459787713,
           "69": -1.0828758395570128,
           "70": -0.6520330466434457,
           "71": -1.6883609048148849,
           "72": -0.9806394917091745,
           "73": 0.05648135594470067,
           "74": 1.4363849629429613,
           "75": -0.9912243661983534,
           "76": -0.44174210997367885,
           "77": 2.458223777585065,
           "78": 0.3964070554812637,
           "79": -2.2900689330319333,
           "80": 0.13119478866512335,
           "81": 0.202150023943113,
           "82": -1.2440794798197548,
           "83": 0.406789365454782,
           "84": 0.1121091598477306,
           "85": -0.4744790463133721,
           "86": 0.7605738700459088,
           "87": -1.0604976934912123,
           "88": 0.9558113236147034,
           "89": -0.4060034048764643,
           "90": -0.30080885103432864,
           "91": -0.5401742009752937,
           "92": -1.2172803241064076,
           "93": 0.7698158087357996,
           "94": 0.4237230514915478,
           "95": 0.7614858069277198,
           "96": 1.1903944203034467,
           "97": 0.03551788003918559,
           "98": -0.5979659784765763,
           "99": -0.8845706731389418,
           "bdata": "gTf8fT9Mxz9cR/UoYnvvP+X+ursV/K6/qOKa9PtR3r9/GupbM/nbPxv6IKp/od4/HwUk8DQG97+qHdcJnKwAQIhnneNKPL6/pmRJrpz48D8i5WSof9XlP8wnt3GcrdA/xzetRO0z9b87pqyrrgvnv+7srQxE8OS/HvIxT5E+1r9upZbYuuf/v3hDQdSy+Ns/RGVFlkCg3T8mm2L1zLvRv+b7UYg51tU/FwkyJy0m878orLgaXu71PzA1H+ql3MM/z5cCXCzY878YLVEuI0jmvx8nwVV+qcM/58SHnHSM2b+OlRrP9u7WvwvUWvRzNOk/iZncluG25T/QxtOmeR3EvyDmRZt8aOA/n0gjjtO05j9ZEr/YHqiwP3Xx0W1fI/G/HuT3vZTfpD9wG7n+fRXlv4jyl/MToO0/CZIRaH5f0b/Tuz5JhZnKP4PT4GCgtda/W+7G/Z3N8T8038YuCOjqP13jMGdji+U/sBh+Mmqq8j/m/LxWFbfQvwA2i9wCvO2/AlJMmi+azj92I1ovlrjbP+rvn32yNoK/R4vhb8f97b+NcPeY1z3RP+nTXWk/4L0/3F1zX9163L/10kRPs2rfv/OTpDcyGrA/qyamI3Ex1L8+CfEjohncv1w1D+uB4vK/Cv+VoDY56b9HdkrCtmjkv6tRq2Q3yug/WeLK1hmU5D8TcFSAA27MvwI13VbL59e/V/RGHAes7j+ZJdvHhdbiP8QZJQkHsPC/JGrInXVT8b+/1WdodN3kv/1lYLmGA/u/rtJBEmZh77/JgTvRH+usPyjmhMxu+/Y/iT96KRy4779Tl+aygEXcv8jRVzpxqgNAG4bMsrte2T+CqSepD1ICwIR1XKf9ysA/JFPcTg3gyT9oNXfiv+fzv9NJP0PWCNo/Lscgly+zvD+sZ6Nc3V3evzZCQQOfVug/dnPwbcz38L++SgKhAZbuP3WUgLT1+9m/totixHNA079AnupnG0nhv+6e4e76efO/gNlOw1Si6D/h6y1KRx7bP2Hto3sXXug/+LQIBdsL8z9GE2JKZi+iP16uNYyJIuO/Hj0EKGdO7L8=",
           "dtype": "f8",
           "shape": "100"
          },
          "bdata": "gTf8fT9Mxz9cR/UoYnvvP+X+ursV/K6/qOKa9PtR3r9/GupbM/nbPxv6IKp/od4/HwUk8DQG97+qHdcJnKwAQIhnneNKPL6/pmRJrpz48D8i5WSof9XlP8wnt3GcrdA/xzetRO0z9b87pqyrrgvnv+7srQxE8OS/HvIxT5E+1r9upZbYuuf/v3hDQdSy+Ns/RGVFlkCg3T8mm2L1zLvRv+b7UYg51tU/FwkyJy0m878orLgaXu71PzA1H+ql3MM/z5cCXCzY878YLVEuI0jmvx8nwVV+qcM/58SHnHSM2b+OlRrP9u7WvwvUWvRzNOk/iZncluG25T/QxtOmeR3EvyDmRZt8aOA/n0gjjtO05j9ZEr/YHqiwP3Xx0W1fI/G/HuT3vZTfpD9wG7n+fRXlv4jyl/MToO0/CZIRaH5f0b/Tuz5JhZnKP4PT4GCgtda/W+7G/Z3N8T8038YuCOjqP13jMGdji+U/sBh+Mmqq8j/m/LxWFbfQvwA2i9wCvO2/AlJMmi+azj92I1ovlrjbP+rvn32yNoK/R4vhb8f97b+NcPeY1z3RP+nTXWk/4L0/3F1zX9163L/10kRPs2rfv/OTpDcyGrA/qyamI3Ex1L8+CfEjohncv1w1D+uB4vK/Cv+VoDY56b9HdkrCtmjkv6tRq2Q3yug/WeLK1hmU5D8TcFSAA27MvwI13VbL59e/V/RGHAes7j+ZJdvHhdbiP8QZJQkHsPC/JGrInXVT8b+/1WdodN3kv/1lYLmGA/u/rtJBEmZh77/JgTvRH+usPyjmhMxu+/Y/iT96KRy4779Tl+aygEXcv8jRVzpxqgNAG4bMsrte2T+CqSepD1ICwIR1XKf9ysA/JFPcTg3gyT9oNXfiv+fzv9NJP0PWCNo/Lscgly+zvD+sZ6Nc3V3evzZCQQOfVug/dnPwbcz38L++SgKhAZbuP3WUgLT1+9m/totixHNA079AnupnG0nhv+6e4e76efO/gNlOw1Si6D/h6y1KRx7bP2Hto3sXXug/+LQIBdsL8z9GE2JKZi+iP16uNYyJIuO/Hj0EKGdO7L8=",
          "dtype": "f8"
         },
         "z": {
          "_inputArray": {
           "0": -258.60167641354724,
           "1": 50.535666397062016,
           "2": -7.424042541719987,
           "3": 75.99915178943976,
           "4": 39.20432281485344,
           "5": -17.477235175049238,
           "6": -35.715601304188034,
           "7": 186.06915015678163,
           "8": 53.58732686630104,
           "9": 9.501615330250557,
           "10": 60.82036571334021,
           "11": 84.9157608924869,
           "12": -134.32582704835045,
           "13": -155.48063475051765,
           "14": -48.900432698615646,
           "15": 56.89973842720459,
           "16": -111.54575412180378,
           "17": -21.94445678739061,
           "18": 82.68412395921725,
           "19": 6.176422973243697,
           "20": 25.912987407656658,
           "21": -44.835881062193465,
           "22": -27.15725764589251,
           "23": 85.07700678867239,
           "24": -4.850698773272882,
           "25": 186.17065061781824,
           "26": 91.21786826975782,
           "27": -151.15583380533155,
           "28": -11.341959166727538,
           "29": -91.42338376324918,
           "30": -13.490109075829292,
           "31": -88.47734529291192,
           "32": 30.44139892420551,
           "33": -63.85590608453259,
           "34": 182.94521371304245,
           "35": -2.750812669230662,
           "36": -135.82859532355755,
           "37": 43.18910067839359,
           "38": -111.43536298068435,
           "39": -70.80504811941478,
           "40": 74.03575245780199,
           "41": -141.61967782875539,
           "42": -15.363915119552765,
           "43": -3.0703487508733285,
           "44": 347.1887955884381,
           "45": 8.12052145194231,
           "46": -49.90704624978956,
           "47": 14.318068406624784,
           "48": 128.90359664153823,
           "49": 117.1639082177451,
           "50": 107.24076944566443,
           "51": 74.35240078496453,
           "52": 19.218488968934324,
           "53": 28.155638608573256,
           "54": -124.314203509773,
           "55": -40.09563851187584,
           "56": -114.49735894164753,
           "57": -37.30370163020953,
           "58": -193.06534058013773,
           "59": 48.47193098913587,
           "60": -22.928374512281728,
           "61": 166.34935783452678,
           "62": 25.433809859235655,
           "63": -46.09181773206336,
           "64": -18.1133805300462,
           "65": -82.45893100850702,
           "66": -120.14603170873261,
           "67": -171.7031580909757,
           "68": 55.54206181250862,
           "69": -225.6445460371205,
           "70": -29.044842317480423,
           "71": -252.5358165913009,
           "72": 44.790755635222936,
           "73": -3.6287929192522803,
           "74": 101.72059375227646,
           "75": -229.528230292727,
           "76": -254.06534948337537,
           "77": -62.16995422552783,
           "78": 103.0942756931268,
           "79": -124.65886936422304,
           "80": -56.42436545399178,
           "81": -50.664670188572025,
           "82": 9.577104623500823,
           "83": 37.385592741617,
           "84": 186.90133411313911,
           "85": 102.97549898474355,
           "86": -30.312494392724002,
           "87": -83.8688479244851,
           "88": 142.15867040991395,
           "89": -80.71470583771747,
           "90": 180.01107829322365,
           "91": 50.12240222191067,
           "92": 44.0812322498891,
           "93": 168.32949673057593,
           "94": 189.24148319666892,
           "95": 43.75575256815004,
           "96": 166.2777659304977,
           "97": 83.81742520136194,
           "98": 9.688639118617132,
           "99": -8.481147702222845,
           "bdata": "XG9yd6ApcMBIeWy3kERJQEMzQzU4sh3AjthYGvL/UkCkz/8/J5pDQFpWnRUsejHANTvT0pjbQcB+vGN6NkJnQJ5p2YYty0pAXzJ9udMAI0Aox2K+AWlOQPgLk9ObOlVAKJrYLG3KYMBs2SBcYW9jwNBm8GBBc0jAK+b3oCpzTEB8M7Ki7eJbwPFThuvH8TXA4c/br8irVEAJYVE5qLQYQJCL8Yq56TlAvLuQJv5qRsB/J34JQig7wL+64a3tRFVAQNFHlB1nE8BK0kj4dUVnQIpcwY3xzVZAVDAtl/zkYsAKU5tFFa8mwAI0NrgY21bAtlGok+/6KsAzfUXTjB5WwMfzF4X/cD5A6MGgVI7tT8DwJ9QwP95mQDAlnhKqAQbAiwlX2oP6YMAKrXZzNJhFQGr7sPzc21vA8CWM6IWzUcC3QK3ESYJSQPERmWbUs2HAhP8hFVO6LsDvhYIBE5AIwIjfhU4Fs3VACB7d/LQ9IEAeZ20XGvRIwEWwuNzZoixA1AWBQ+ocYECysOR4fUpdQE7AP8Roz1pAeaAFvI2WUkAUHKDk7jczQCzRje7XJzxA3LAJ6RsUX8BXX/zhPQxEwPUvmbrUn1zA9L7ssd+mQsBi2SBFFyJowFwnEjxoPEhAorC486ntNsCbPHvwLctkQHkZtikObzlA2DP2rsALR8A0jaSBBh0ywBwqKiBfnVTA4EthlVgJXsASlWVFgHZlwEiRDkhixUtAXsYCH6A0bMAmDj/Jegs9wFQJ1mglkW/AgjQMezdlRkDIKAGVxAcNwK3uQTUebllAmwA3Q+ewbMAMvcxXF8JvwMI6YA/BFU/AZLLqnAjGWUAn62jqKipfwDQ5cZtRNkzAgUWp6RNVScDknNhBeicjQPZoWxpbsUJAdFajutdcZ0BOMEuTbr5ZQNfu7KH/Tz7AGjdTNJv3VMCMrffTE8VhQHDQjb29LVTA6mLdwFqAZkAzCELgqg9JQLxTgNFlCkZAzT66PIsKZUBAB/g6uqdnQEUJCoC84EVAyG1gdePIZECmscqxUPRUQOhpek6VYCNAci/b/Vj2IMA=",
           "dtype": "f8",
           "shape": "100"
          },
          "bdata": "XG9yd6ApcMBIeWy3kERJQEMzQzU4sh3AjthYGvL/UkCkz/8/J5pDQFpWnRUsejHANTvT0pjbQcB+vGN6NkJnQJ5p2YYty0pAXzJ9udMAI0Aox2K+AWlOQPgLk9ObOlVAKJrYLG3KYMBs2SBcYW9jwNBm8GBBc0jAK+b3oCpzTEB8M7Ki7eJbwPFThuvH8TXA4c/br8irVEAJYVE5qLQYQJCL8Yq56TlAvLuQJv5qRsB/J34JQig7wL+64a3tRFVAQNFHlB1nE8BK0kj4dUVnQIpcwY3xzVZAVDAtl/zkYsAKU5tFFa8mwAI0NrgY21bAtlGok+/6KsAzfUXTjB5WwMfzF4X/cD5A6MGgVI7tT8DwJ9QwP95mQDAlnhKqAQbAiwlX2oP6YMAKrXZzNJhFQGr7sPzc21vA8CWM6IWzUcC3QK3ESYJSQPERmWbUs2HAhP8hFVO6LsDvhYIBE5AIwIjfhU4Fs3VACB7d/LQ9IEAeZ20XGvRIwEWwuNzZoixA1AWBQ+ocYECysOR4fUpdQE7AP8Roz1pAeaAFvI2WUkAUHKDk7jczQCzRje7XJzxA3LAJ6RsUX8BXX/zhPQxEwPUvmbrUn1zA9L7ssd+mQsBi2SBFFyJowFwnEjxoPEhAorC486ntNsCbPHvwLctkQHkZtikObzlA2DP2rsALR8A0jaSBBh0ywBwqKiBfnVTA4EthlVgJXsASlWVFgHZlwEiRDkhixUtAXsYCH6A0bMAmDj/Jegs9wFQJ1mglkW/AgjQMezdlRkDIKAGVxAcNwK3uQTUebllAmwA3Q+ewbMAMvcxXF8JvwMI6YA/BFU/AZLLqnAjGWUAn62jqKipfwDQ5cZtRNkzAgUWp6RNVScDknNhBeicjQPZoWxpbsUJAdFajutdcZ0BOMEuTbr5ZQNfu7KH/Tz7AGjdTNJv3VMCMrffTE8VhQHDQjb29LVTA6mLdwFqAZkAzCELgqg9JQLxTgNFlCkZAzT66PIsKZUBAB/g6uqdnQEUJCoC84EVAyG1gdePIZECmscqxUPRUQOhpek6VYCNAci/b/Vj2IMA=",
          "dtype": "f8"
         }
        },
        {
         "type": "surface",
         "x": {
          "_inputArray": {
           "0": -5,
           "1": -3.888888888888889,
           "2": -2.7777777777777777,
           "3": -1.6666666666666665,
           "4": -0.5555555555555554,
           "5": 0.5555555555555554,
           "6": 1.666666666666667,
           "7": 2.7777777777777786,
           "8": 3.8888888888888893,
           "9": 5,
           "bdata": "AAAAAAAAFMDHcRzHcRwPwI7jOI7jOAbAqqqqqqqq+r9wHMdxHMfhv3Acx3Ecx+E/rKqqqqqq+j+Q4ziO4zgGQMhxHMdxHA9AAAAAAAAAFEA=",
           "dtype": "f8",
           "shape": "10"
          },
          "bdata": "AAAAAAAAFMDHcRzHcRwPwI7jOI7jOAbAqqqqqqqq+r9wHMdxHMfhv3Acx3Ecx+E/rKqqqqqq+j+Q4ziO4zgGQMhxHMdxHA9AAAAAAAAAFEA=",
          "dtype": "f8"
         },
         "y": {
          "_inputArray": {
           "0": -5,
           "1": -3.888888888888889,
           "2": -2.7777777777777777,
           "3": -1.6666666666666665,
           "4": -0.5555555555555554,
           "5": 0.5555555555555554,
           "6": 1.666666666666667,
           "7": 2.7777777777777786,
           "8": 3.8888888888888893,
           "9": 5,
           "bdata": "AAAAAAAAFMDHcRzHcRwPwI7jOI7jOAbAqqqqqqqq+r9wHMdxHMfhv3Acx3Ecx+E/rKqqqqqq+j+Q4ziO4zgGQMhxHMdxHA9AAAAAAAAAFEA=",
           "dtype": "f8",
           "shape": "10"
          },
          "bdata": "AAAAAAAAFMDHcRzHcRwPwI7jOI7jOAbAqqqqqqqq+r9wHMdxHMfhv3Acx3Ecx+E/rKqqqqqq+j+Q4ziO4zgGQMhxHMdxHA9AAAAAAAAAFEA=",
          "dtype": "f8"
         },
         "z": {
          "_inputArray": [
           {
            "0": -540.3686734550474,
            "1": -448.24834060799355,
            "2": -356.12800776093974,
            "3": -264.0076749138859,
            "4": -171.8873420668321,
            "5": -79.76700921977834,
            "6": 12.353323627275532,
            "7": 104.47365647432937,
            "8": 196.59398932138316,
            "9": 288.7143221684369
           },
           {
            "0": -513.1420477164673,
            "1": -421.0217148694135,
            "2": -328.90138202235966,
            "3": -236.7810491753058,
            "4": -144.660716328252,
            "5": -52.54038348119824,
            "6": 39.579949365855626,
            "7": 131.70028221290949,
            "8": 223.82061505996327,
            "9": 315.940947907017
           },
           {
            "0": -485.91542197788715,
            "1": -393.79508913083333,
            "2": -301.6747562837795,
            "3": -209.55442343672573,
            "4": -117.43409058967191,
            "5": -25.313757742618147,
            "6": 66.80657510443572,
            "7": 158.92690795148957,
            "8": 251.04724079854336,
            "9": 343.16757364559714
           },
           {
            "0": -458.68879623930707,
            "1": -366.56846339225325,
            "2": -274.44813054519943,
            "3": -182.32779769814562,
            "4": -90.20746485109183,
            "5": 1.9128679959619488,
            "6": 94.0332008430158,
            "7": 186.15353369006968,
            "8": 278.27386653712347,
            "9": 370.3941993841772
           },
           {
            "0": -431.462170500727,
            "1": -339.34183765367317,
            "2": -247.22150480661935,
            "3": -155.10117195956553,
            "4": -62.98083911251173,
            "5": 29.139493734542043,
            "6": 121.25982658159592,
            "7": 213.38015942864976,
            "8": 305.50049227570355,
            "9": 397.6208251227573
           },
           {
            "0": -404.2355447621469,
            "1": -312.1152119150931,
            "2": -219.99487906803927,
            "3": -127.87454622098545,
            "4": -35.75421337393165,
            "5": 56.366119473122126,
            "6": 148.486452320176,
            "7": 240.60678516722984,
            "8": 332.72711801428363,
            "9": 424.8474508613374
           },
           {
            "0": -377.0089190235668,
            "1": -284.888586176513,
            "2": -192.76825332945916,
            "3": -100.64792048240534,
            "4": -8.527587635351543,
            "5": 83.59274521170224,
            "6": 175.7130780587561,
            "7": 267.83341090580996,
            "8": 359.9537437528637,
            "9": 452.0740765999175
           },
           {
            "0": -349.7822932849867,
            "1": -257.66196043793286,
            "2": -165.54162759087905,
            "3": -73.42129474382526,
            "4": 18.699038103228563,
            "5": 110.81937095028235,
            "6": 202.93970379733622,
            "7": 295.06003664439004,
            "8": 387.18036949144386,
            "9": 479.3007023384976
           },
           {
            "0": -322.5556675464066,
            "1": -230.43533469935278,
            "2": -138.31500185229896,
            "3": -46.19466900524517,
            "4": 45.92566384180864,
            "5": 138.04599668886243,
            "6": 230.1663295359163,
            "7": 322.2866623829701,
            "8": 414.40699523002394,
            "9": 506.5273280770777
           },
           {
            "0": -295.3290418078265,
            "1": -203.2087089607727,
            "2": -111.08837611371891,
            "3": -18.96804326666508,
            "4": 73.15228958038873,
            "5": 165.2726224274425,
            "6": 257.3929552744964,
            "7": 349.5132881215502,
            "8": 441.633620968604,
            "9": 533.7539538156577
           }
          ],
          "bdata": "qIIRC/PigMCeWQA0+QN8wO2t3VEMQnbAPAK7bx+AcMAWrTAbZXxlwGyr1q0W8VPA4hqg1ea0KEAisj5jUB5aQHKw5PUBk2hA6QMV3W0LckCXxenpIgmAwHzfsPFYUHrAyzOOD2yOdMAzENda/phtwNG4kZYkFWLAxYUxSStFSsDK1+PHO8pDQFZNPrZodmBAt6SDekL6a0ALfmQfDr9zQAoRhJGlXn7AWWVhr7iceMCouT7Ny9pywO8bONa9MWrAGonlI8hbXcBnaWttUlA5wG7UL+2es1BAmkHdOqndY0D7mCL/gmFvQC74s2GucnVA6JY0TwWrfMA36xFtGOl2wIY/74orJ3HAqieZUX3KZsCSoKcaR41WwMyLw3gbm/4/9rxt9h+CV0DfNXy/6URnQKDG4MFhZHFAUHIDpE4md0DGHOUMZfd6wBVxwip4NXXAyIo/kRbnbsBmM/rMPGNjwBJw0yKMfU/A4NqD3LUjPUCApav/oFBeQCMqG0QqrGpAwkAwBAIYc0By7FLm7tl4QKSilcrEQ3nA8/Zy6NeBc8CElqAM1n9rwER+tpD491/AAp9XEIrgQcCAvr0A3S5MQATHdASRj2JAZx66yGoTbkDkun9Gost0QJRmoiiPjXpAgihGiCSQd8DRfCOmN85xwD+iAYiVGGjAupV4h3cpWcC7N2/3Hw4hwMrHnInv5VRASbsTidH2ZUBWiaymVb1wQAY1z4hCf3ZAtuDxai9BfEBfrvZFhNx1wK4C1GOXGnDA+q1iA1WxZMAyrTp+9lpSwEkGQCn0sjJAVLDaknC0W0COr7INEl5pQHgD/Oj1cHJAKa8ey+IyeEDZWkGtz/R9QD00pwPkKHTAGBEJQ+7NbMC2ucN+FEphwFOJ+enqGEfANNQbJ3z2RkBuTAzOeEFhQNKjUZJSxWxAmn1LK5YkdEBLKW4Ng+Z5QPvUkO9vqH9AG7pXwUN1csDUHGq+rWZpwOaKSfSnxVvAhXD7rtH3MsCi0sscv0lSQLJAq1K5qGRAC0x4i0kWcEC895ptNth1QG2jvU8jmntAjifwGAiugEA=",
          "dtype": "f8",
          "shape": "10, 10"
         }
        }
       ],
       "layout": {
        "autosize": true,
        "legend": {
         "tracegroupgap": 0
        },
        "margin": {
         "t": 60
        },
        "scene": {
         "aspectmode": "auto",
         "aspectratio": {
          "x": 1,
          "y": 1,
          "z": 1
         },
         "camera": {
          "center": {
           "x": 0,
           "y": 0,
           "z": 0
          },
          "eye": {
           "x": -1.1715438789808916,
           "y": 1.378273013693879,
           "z": 0.800436369821175
          },
          "projection": {
           "type": "perspective"
          },
          "up": {
           "x": 0,
           "y": 0,
           "z": 1
          }
         },
         "domain": {
          "x": [
           0,
           1
          ],
          "y": [
           0,
           1
          ]
         },
         "xaxis": {
          "title": {
           "text": "feature1"
          },
          "type": "linear"
         },
         "yaxis": {
          "title": {
           "text": "feature2"
          },
          "type": "linear"
         },
         "zaxis": {
          "title": {
           "text": "target"
          },
          "type": "linear"
         }
        },
        "template": {
         "data": {
          "bar": [
           {
            "error_x": {
             "color": "#2a3f5f"
            },
            "error_y": {
             "color": "#2a3f5f"
            },
            "marker": {
             "line": {
              "color": "#E5ECF6",
              "width": 0.5
             },
             "pattern": {
              "fillmode": "overlay",
              "size": 10,
              "solidity": 0.2
             }
            },
            "type": "bar"
           }
          ],
          "barpolar": [
           {
            "marker": {
             "line": {
              "color": "#E5ECF6",
              "width": 0.5
             },
             "pattern": {
              "fillmode": "overlay",
              "size": 10,
              "solidity": 0.2
             }
            },
            "type": "barpolar"
           }
          ],
          "carpet": [
           {
            "aaxis": {
             "endlinecolor": "#2a3f5f",
             "gridcolor": "white",
             "linecolor": "white",
             "minorgridcolor": "white",
             "startlinecolor": "#2a3f5f"
            },
            "baxis": {
             "endlinecolor": "#2a3f5f",
             "gridcolor": "white",
             "linecolor": "white",
             "minorgridcolor": "white",
             "startlinecolor": "#2a3f5f"
            },
            "type": "carpet"
           }
          ],
          "choropleth": [
           {
            "colorbar": {
             "outlinewidth": 0,
             "ticks": ""
            },
            "type": "choropleth"
           }
          ],
          "contour": [
           {
            "colorbar": {
             "outlinewidth": 0,
             "ticks": ""
            },
            "colorscale": [
             [
              0,
              "#0d0887"
             ],
             [
              0.1111111111111111,
              "#46039f"
             ],
             [
              0.2222222222222222,
              "#7201a8"
             ],
             [
              0.3333333333333333,
              "#9c179e"
             ],
             [
              0.4444444444444444,
              "#bd3786"
             ],
             [
              0.5555555555555556,
              "#d8576b"
             ],
             [
              0.6666666666666666,
              "#ed7953"
             ],
             [
              0.7777777777777778,
              "#fb9f3a"
             ],
             [
              0.8888888888888888,
              "#fdca26"
             ],
             [
              1,
              "#f0f921"
             ]
            ],
            "type": "contour"
           }
          ],
          "contourcarpet": [
           {
            "colorbar": {
             "outlinewidth": 0,
             "ticks": ""
            },
            "type": "contourcarpet"
           }
          ],
          "heatmap": [
           {
            "colorbar": {
             "outlinewidth": 0,
             "ticks": ""
            },
            "colorscale": [
             [
              0,
              "#0d0887"
             ],
             [
              0.1111111111111111,
              "#46039f"
             ],
             [
              0.2222222222222222,
              "#7201a8"
             ],
             [
              0.3333333333333333,
              "#9c179e"
             ],
             [
              0.4444444444444444,
              "#bd3786"
             ],
             [
              0.5555555555555556,
              "#d8576b"
             ],
             [
              0.6666666666666666,
              "#ed7953"
             ],
             [
              0.7777777777777778,
              "#fb9f3a"
             ],
             [
              0.8888888888888888,
              "#fdca26"
             ],
             [
              1,
              "#f0f921"
             ]
            ],
            "type": "heatmap"
           }
          ],
          "histogram": [
           {
            "marker": {
             "pattern": {
              "fillmode": "overlay",
              "size": 10,
              "solidity": 0.2
             }
            },
            "type": "histogram"
           }
          ],
          "histogram2d": [
           {
            "colorbar": {
             "outlinewidth": 0,
             "ticks": ""
            },
            "colorscale": [
             [
              0,
              "#0d0887"
             ],
             [
              0.1111111111111111,
              "#46039f"
             ],
             [
              0.2222222222222222,
              "#7201a8"
             ],
             [
              0.3333333333333333,
              "#9c179e"
             ],
             [
              0.4444444444444444,
              "#bd3786"
             ],
             [
              0.5555555555555556,
              "#d8576b"
             ],
             [
              0.6666666666666666,
              "#ed7953"
             ],
             [
              0.7777777777777778,
              "#fb9f3a"
             ],
             [
              0.8888888888888888,
              "#fdca26"
             ],
             [
              1,
              "#f0f921"
             ]
            ],
            "type": "histogram2d"
           }
          ],
          "histogram2dcontour": [
           {
            "colorbar": {
             "outlinewidth": 0,
             "ticks": ""
            },
            "colorscale": [
             [
              0,
              "#0d0887"
             ],
             [
              0.1111111111111111,
              "#46039f"
             ],
             [
              0.2222222222222222,
              "#7201a8"
             ],
             [
              0.3333333333333333,
              "#9c179e"
             ],
             [
              0.4444444444444444,
              "#bd3786"
             ],
             [
              0.5555555555555556,
              "#d8576b"
             ],
             [
              0.6666666666666666,
              "#ed7953"
             ],
             [
              0.7777777777777778,
              "#fb9f3a"
             ],
             [
              0.8888888888888888,
              "#fdca26"
             ],
             [
              1,
              "#f0f921"
             ]
            ],
            "type": "histogram2dcontour"
           }
          ],
          "mesh3d": [
           {
            "colorbar": {
             "outlinewidth": 0,
             "ticks": ""
            },
            "type": "mesh3d"
           }
          ],
          "parcoords": [
           {
            "line": {
             "colorbar": {
              "outlinewidth": 0,
              "ticks": ""
             }
            },
            "type": "parcoords"
           }
          ],
          "pie": [
           {
            "automargin": true,
            "type": "pie"
           }
          ],
          "scatter": [
           {
            "fillpattern": {
             "fillmode": "overlay",
             "size": 10,
             "solidity": 0.2
            },
            "type": "scatter"
           }
          ],
          "scatter3d": [
           {
            "line": {
             "colorbar": {
              "outlinewidth": 0,
              "ticks": ""
             }
            },
            "marker": {
             "colorbar": {
              "outlinewidth": 0,
              "ticks": ""
             }
            },
            "type": "scatter3d"
           }
          ],
          "scattercarpet": [
           {
            "marker": {
             "colorbar": {
              "outlinewidth": 0,
              "ticks": ""
             }
            },
            "type": "scattercarpet"
           }
          ],
          "scattergeo": [
           {
            "marker": {
             "colorbar": {
              "outlinewidth": 0,
              "ticks": ""
             }
            },
            "type": "scattergeo"
           }
          ],
          "scattergl": [
           {
            "marker": {
             "colorbar": {
              "outlinewidth": 0,
              "ticks": ""
             }
            },
            "type": "scattergl"
           }
          ],
          "scattermap": [
           {
            "marker": {
             "colorbar": {
              "outlinewidth": 0,
              "ticks": ""
             }
            },
            "type": "scattermap"
           }
          ],
          "scattermapbox": [
           {
            "marker": {
             "colorbar": {
              "outlinewidth": 0,
              "ticks": ""
             }
            },
            "type": "scattermapbox"
           }
          ],
          "scatterpolar": [
           {
            "marker": {
             "colorbar": {
              "outlinewidth": 0,
              "ticks": ""
             }
            },
            "type": "scatterpolar"
           }
          ],
          "scatterpolargl": [
           {
            "marker": {
             "colorbar": {
              "outlinewidth": 0,
              "ticks": ""
             }
            },
            "type": "scatterpolargl"
           }
          ],
          "scatterternary": [
           {
            "marker": {
             "colorbar": {
              "outlinewidth": 0,
              "ticks": ""
             }
            },
            "type": "scatterternary"
           }
          ],
          "surface": [
           {
            "colorbar": {
             "outlinewidth": 0,
             "ticks": ""
            },
            "colorscale": [
             [
              0,
              "#0d0887"
             ],
             [
              0.1111111111111111,
              "#46039f"
             ],
             [
              0.2222222222222222,
              "#7201a8"
             ],
             [
              0.3333333333333333,
              "#9c179e"
             ],
             [
              0.4444444444444444,
              "#bd3786"
             ],
             [
              0.5555555555555556,
              "#d8576b"
             ],
             [
              0.6666666666666666,
              "#ed7953"
             ],
             [
              0.7777777777777778,
              "#fb9f3a"
             ],
             [
              0.8888888888888888,
              "#fdca26"
             ],
             [
              1,
              "#f0f921"
             ]
            ],
            "type": "surface"
           }
          ],
          "table": [
           {
            "cells": {
             "fill": {
              "color": "#EBF0F8"
             },
             "line": {
              "color": "white"
             }
            },
            "header": {
             "fill": {
              "color": "#C8D4E3"
             },
             "line": {
              "color": "white"
             }
            },
            "type": "table"
           }
          ]
         },
         "layout": {
          "annotationdefaults": {
           "arrowcolor": "#2a3f5f",
           "arrowhead": 0,
           "arrowwidth": 1
          },
          "autotypenumbers": "strict",
          "coloraxis": {
           "colorbar": {
            "outlinewidth": 0,
            "ticks": ""
           }
          },
          "colorscale": {
           "diverging": [
            [
             0,
             "#8e0152"
            ],
            [
             0.1,
             "#c51b7d"
            ],
            [
             0.2,
             "#de77ae"
            ],
            [
             0.3,
             "#f1b6da"
            ],
            [
             0.4,
             "#fde0ef"
            ],
            [
             0.5,
             "#f7f7f7"
            ],
            [
             0.6,
             "#e6f5d0"
            ],
            [
             0.7,
             "#b8e186"
            ],
            [
             0.8,
             "#7fbc41"
            ],
            [
             0.9,
             "#4d9221"
            ],
            [
             1,
             "#276419"
            ]
           ],
           "sequential": [
            [
             0,
             "#0d0887"
            ],
            [
             0.1111111111111111,
             "#46039f"
            ],
            [
             0.2222222222222222,
             "#7201a8"
            ],
            [
             0.3333333333333333,
             "#9c179e"
            ],
            [
             0.4444444444444444,
             "#bd3786"
            ],
            [
             0.5555555555555556,
             "#d8576b"
            ],
            [
             0.6666666666666666,
             "#ed7953"
            ],
            [
             0.7777777777777778,
             "#fb9f3a"
            ],
            [
             0.8888888888888888,
             "#fdca26"
            ],
            [
             1,
             "#f0f921"
            ]
           ],
           "sequentialminus": [
            [
             0,
             "#0d0887"
            ],
            [
             0.1111111111111111,
             "#46039f"
            ],
            [
             0.2222222222222222,
             "#7201a8"
            ],
            [
             0.3333333333333333,
             "#9c179e"
            ],
            [
             0.4444444444444444,
             "#bd3786"
            ],
            [
             0.5555555555555556,
             "#d8576b"
            ],
            [
             0.6666666666666666,
             "#ed7953"
            ],
            [
             0.7777777777777778,
             "#fb9f3a"
            ],
            [
             0.8888888888888888,
             "#fdca26"
            ],
            [
             1,
             "#f0f921"
            ]
           ]
          },
          "colorway": [
           "#636efa",
           "#EF553B",
           "#00cc96",
           "#ab63fa",
           "#FFA15A",
           "#19d3f3",
           "#FF6692",
           "#B6E880",
           "#FF97FF",
           "#FECB52"
          ],
          "font": {
           "color": "#2a3f5f"
          },
          "geo": {
           "bgcolor": "white",
           "lakecolor": "white",
           "landcolor": "#E5ECF6",
           "showlakes": true,
           "showland": true,
           "subunitcolor": "white"
          },
          "hoverlabel": {
           "align": "left"
          },
          "hovermode": "closest",
          "mapbox": {
           "style": "light"
          },
          "paper_bgcolor": "white",
          "plot_bgcolor": "#E5ECF6",
          "polar": {
           "angularaxis": {
            "gridcolor": "white",
            "linecolor": "white",
            "ticks": ""
           },
           "bgcolor": "#E5ECF6",
           "radialaxis": {
            "gridcolor": "white",
            "linecolor": "white",
            "ticks": ""
           }
          },
          "scene": {
           "xaxis": {
            "backgroundcolor": "#E5ECF6",
            "gridcolor": "white",
            "gridwidth": 2,
            "linecolor": "white",
            "showbackground": true,
            "ticks": "",
            "zerolinecolor": "white"
           },
           "yaxis": {
            "backgroundcolor": "#E5ECF6",
            "gridcolor": "white",
            "gridwidth": 2,
            "linecolor": "white",
            "showbackground": true,
            "ticks": "",
            "zerolinecolor": "white"
           },
           "zaxis": {
            "backgroundcolor": "#E5ECF6",
            "gridcolor": "white",
            "gridwidth": 2,
            "linecolor": "white",
            "showbackground": true,
            "ticks": "",
            "zerolinecolor": "white"
           }
          },
          "shapedefaults": {
           "line": {
            "color": "#2a3f5f"
           }
          },
          "ternary": {
           "aaxis": {
            "gridcolor": "white",
            "linecolor": "white",
            "ticks": ""
           },
           "baxis": {
            "gridcolor": "white",
            "linecolor": "white",
            "ticks": ""
           },
           "bgcolor": "#E5ECF6",
           "caxis": {
            "gridcolor": "white",
            "linecolor": "white",
            "ticks": ""
           }
          },
          "title": {
           "x": 0.05
          },
          "xaxis": {
           "automargin": true,
           "gridcolor": "white",
           "linecolor": "white",
           "ticks": "",
           "title": {
            "standoff": 15
           },
           "zerolinecolor": "white",
           "zerolinewidth": 2
          },
          "yaxis": {
           "automargin": true,
           "gridcolor": "white",
           "linecolor": "white",
           "ticks": "",
           "title": {
            "standoff": 15
           },
           "zerolinecolor": "white",
           "zerolinewidth": 2
          }
         }
        }
       }
      },
      "image/png": "[encoded data removed]"
     },
     "metadata": {},
     "output_type": "display_data"
    }
   ],
   "source": [
    "fig = px.scatter_3d(df, x='feature1', y='feature2', z='target')\n",
    "\n",
    "fig.add_trace(go.Surface(x = x, y = y, z =z ))\n",
    "\n",
    "fig.show()\n",
    "     "
   ]
  },
  {
   "cell_type": "code",
   "execution_count": 45,
   "id": "9de0dfe0-647e-49a9-aeb4-3637dcafe548",
   "metadata": {},
   "outputs": [
    {
     "data": {
      "text/plain": [
       "array([82.90829956, 24.50396316])"
      ]
     },
     "execution_count": 45,
     "metadata": {},
     "output_type": "execute_result"
    }
   ],
   "source": [
    "lr.coef_\n",
    "# this is our Beta1 and Beta 2"
   ]
  },
  {
   "cell_type": "code",
   "execution_count": 47,
   "id": "2357842a-fb7a-47eb-b45c-b65841a00815",
   "metadata": {},
   "outputs": [
    {
     "data": {
      "text/plain": [
       "-3.3073598196948026"
      ]
     },
     "execution_count": 47,
     "metadata": {},
     "output_type": "execute_result"
    }
   ],
   "source": [
    "lr.intercept_\n",
    "# this is our B0"
   ]
  },
  {
   "cell_type": "code",
   "execution_count": null,
   "id": "d29c7762-f55a-4915-aee7-05ce060d76c9",
   "metadata": {},
   "outputs": [],
   "source": []
  }
 ],
 "metadata": {
  "kernelspec": {
   "display_name": "Python 3",
   "language": "python",
   "name": "python3"
  },
  "language_info": {
   "codemirror_mode": {
    "name": "ipython",
    "version": 3
   },
   "file_extension": ".py",
   "mimetype": "text/x-python",
   "name": "python",
   "nbconvert_exporter": "python",
   "pygments_lexer": "ipython3",
   "version": "3.12.7"
  }
 },
 "nbformat": 4,
 "nbformat_minor": 5
}
